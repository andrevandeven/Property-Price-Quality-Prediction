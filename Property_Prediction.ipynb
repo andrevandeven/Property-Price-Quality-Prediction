{
  "nbformat": 4,
  "nbformat_minor": 0,
  "metadata": {
    "colab": {
      "provenance": []
    },
    "kernelspec": {
      "name": "python3",
      "display_name": "Python 3"
    },
    "language_info": {
      "name": "python"
    }
  },
  "cells": [
    {
      "cell_type": "markdown",
      "source": [
        "# Machine Learning: Predicting Property Quality and Price\n"
      ],
      "metadata": {
        "id": "I2L0PkeSIuOD"
      }
    },
    {
      "cell_type": "code",
      "execution_count": 4,
      "metadata": {
        "id": "TBTaESEdMmiU"
      },
      "outputs": [],
      "source": [
        "# import packages\n",
        "import json\n",
        "import glob\n",
        "import pandas as pd\n",
        "import numpy as np\n",
        "import datetime as dt\n",
        "import re\n",
        "import os\n",
        "import matplotlib.pyplot as plt\n",
        "import seaborn as sns\n",
        "from matplotlib import cm\n",
        "from google.colab import drive\n",
        "from sklearn.model_selection import train_test_split\n",
        "from collections import Counter\n",
        "import seaborn as sns\n",
        "\n",
        "import warnings\n",
        "warnings.filterwarnings(\"ignore\", category=DeprecationWarning)"
      ]
    },
    {
      "cell_type": "code",
      "execution_count": 5,
      "metadata": {
        "id": "tA6oTIZtRjf7"
      },
      "outputs": [],
      "source": [
        "%%capture\n",
        "!apt update\n",
        "!pip install kaggle"
      ]
    },
    {
      "cell_type": "markdown",
      "source": [
        "# **Part I:** Preprocessing and Modeling in `scikit-learn`"
      ],
      "metadata": {
        "id": "odlXF5IYJ-et"
      }
    },
    {
      "cell_type": "markdown",
      "source": [
        "## **1.1** Data Loading and Preprocessing"
      ],
      "metadata": {
        "id": "_XSw-F5VjVKI"
      }
    },
    {
      "cell_type": "markdown",
      "metadata": {
        "id": "1Sw7LCAacKOu"
      },
      "source": [
        "### **1.1.1** Read and Load Data\n",
        "\n",
        "We are using one CSV, `properties_data.csv` from a Kaggle [dataset](https://www.kaggle.com/datasets/dataregress/dubai-properties-dataset/data). The dataset contains 38 columns and over 1900 property entries.\n",
        "\n"
      ]
    },
    {
      "cell_type": "code",
      "execution_count": 6,
      "metadata": {
        "id": "RGz24WQ86ptM",
        "colab": {
          "base_uri": "https://localhost:8080/"
        },
        "outputId": "657a0813-7d5c-4e36-a4a9-9660a0d7faf7"
      },
      "outputs": [
        {
          "output_type": "stream",
          "name": "stdout",
          "text": [
            "Mounted at /content/drive\n"
          ]
        }
      ],
      "source": [
        "# Run this cell to mount your drive (you will be prompted to sign in)\n",
        "from google.colab import drive\n",
        "drive.mount('/content/drive')"
      ]
    },
    {
      "cell_type": "code",
      "source": [
        "!mkdir ~/.kaggle"
      ],
      "metadata": {
        "id": "R4taOIpPb6CN"
      },
      "execution_count": 7,
      "outputs": []
    },
    {
      "cell_type": "code",
      "source": [
        "!cp /content/drive/MyDrive/kaggle.json ~/.kaggle/"
      ],
      "metadata": {
        "id": "uO1UNkV6cbxA"
      },
      "execution_count": 8,
      "outputs": []
    },
    {
      "cell_type": "code",
      "source": [
        "!!kaggle datasets download -d dataregress/dubai-properties-dataset"
      ],
      "metadata": {
        "id": "PZzBBL4VHVTK",
        "colab": {
          "base_uri": "https://localhost:8080/"
        },
        "outputId": "a0a6ab99-867b-485f-bc01-c1723ed7ca14"
      },
      "execution_count": 9,
      "outputs": [
        {
          "output_type": "execute_result",
          "data": {
            "text/plain": [
              "['Downloading dubai-properties-dataset.zip to /content',\n",
              " '',\n",
              " '  0% 0.00/60.0k [00:00<?, ?B/s]',\n",
              " '',\n",
              " '100% 60.0k/60.0k [00:00<00:00, 9.26MB/s]']"
            ]
          },
          "metadata": {},
          "execution_count": 9
        }
      ]
    },
    {
      "cell_type": "code",
      "source": [
        "!unzip /content/dubai-properties-dataset.zip"
      ],
      "metadata": {
        "id": "SGrKYIOUHebk",
        "colab": {
          "base_uri": "https://localhost:8080/"
        },
        "outputId": "cef8b5a2-4f07-4a99-8ac2-b50b50afb761"
      },
      "execution_count": 10,
      "outputs": [
        {
          "output_type": "stream",
          "name": "stdout",
          "text": [
            "Archive:  /content/dubai-properties-dataset.zip\n",
            "  inflating: properties_data.csv     \n"
          ]
        }
      ]
    },
    {
      "cell_type": "code",
      "source": [
        "df_properties = pd.read_csv('properties_data.csv')\n",
        "\n",
        "df_properties.head()"
      ],
      "metadata": {
        "id": "UehH19fqHR4L",
        "colab": {
          "base_uri": "https://localhost:8080/",
          "height": 273
        },
        "outputId": "a2248190-f3bf-4247-fcd4-933603323349"
      },
      "execution_count": 11,
      "outputs": [
        {
          "output_type": "execute_result",
          "data": {
            "text/plain": [
              "        id          neighborhood   latitude  longitude    price  size_in_sqft  \\\n",
              "0  5528049         Palm Jumeirah  25.113208  55.138932  2700000          1079   \n",
              "1  6008529         Palm Jumeirah  25.106809  55.151201  2850000          1582   \n",
              "2  6034542  Jumeirah Lake Towers  25.063302  55.137728  1150000          1951   \n",
              "3  6326063       Culture Village  25.227295  55.341761  2850000          2020   \n",
              "4  6356778         Palm Jumeirah  25.114275  55.139764  1729200           507   \n",
              "\n",
              "   price_per_sqft  no_of_bedrooms  no_of_bathrooms quality  ...  private_pool  \\\n",
              "0         2502.32               1                2  Medium  ...         False   \n",
              "1         1801.52               2                2  Medium  ...         False   \n",
              "2          589.44               3                5  Medium  ...         False   \n",
              "3         1410.89               2                3     Low  ...         False   \n",
              "4         3410.65               0                1  Medium  ...         False   \n",
              "\n",
              "   security  shared_gym  shared_pool  shared_spa  study  vastu_compliant  \\\n",
              "0     False        True        False       False  False            False   \n",
              "1     False        True         True       False  False            False   \n",
              "2      True        True         True       False  False            False   \n",
              "3     False       False        False       False  False            False   \n",
              "4      True        True         True        True  False            False   \n",
              "\n",
              "   view_of_landmark  view_of_water  walk_in_closet  \n",
              "0             False           True           False  \n",
              "1             False           True           False  \n",
              "2              True           True            True  \n",
              "3             False          False           False  \n",
              "4              True           True           False  \n",
              "\n",
              "[5 rows x 38 columns]"
            ],
            "text/html": [
              "\n",
              "  <div id=\"df-658028c6-f208-4994-98af-f53008338a55\" class=\"colab-df-container\">\n",
              "    <div>\n",
              "<style scoped>\n",
              "    .dataframe tbody tr th:only-of-type {\n",
              "        vertical-align: middle;\n",
              "    }\n",
              "\n",
              "    .dataframe tbody tr th {\n",
              "        vertical-align: top;\n",
              "    }\n",
              "\n",
              "    .dataframe thead th {\n",
              "        text-align: right;\n",
              "    }\n",
              "</style>\n",
              "<table border=\"1\" class=\"dataframe\">\n",
              "  <thead>\n",
              "    <tr style=\"text-align: right;\">\n",
              "      <th></th>\n",
              "      <th>id</th>\n",
              "      <th>neighborhood</th>\n",
              "      <th>latitude</th>\n",
              "      <th>longitude</th>\n",
              "      <th>price</th>\n",
              "      <th>size_in_sqft</th>\n",
              "      <th>price_per_sqft</th>\n",
              "      <th>no_of_bedrooms</th>\n",
              "      <th>no_of_bathrooms</th>\n",
              "      <th>quality</th>\n",
              "      <th>...</th>\n",
              "      <th>private_pool</th>\n",
              "      <th>security</th>\n",
              "      <th>shared_gym</th>\n",
              "      <th>shared_pool</th>\n",
              "      <th>shared_spa</th>\n",
              "      <th>study</th>\n",
              "      <th>vastu_compliant</th>\n",
              "      <th>view_of_landmark</th>\n",
              "      <th>view_of_water</th>\n",
              "      <th>walk_in_closet</th>\n",
              "    </tr>\n",
              "  </thead>\n",
              "  <tbody>\n",
              "    <tr>\n",
              "      <th>0</th>\n",
              "      <td>5528049</td>\n",
              "      <td>Palm Jumeirah</td>\n",
              "      <td>25.113208</td>\n",
              "      <td>55.138932</td>\n",
              "      <td>2700000</td>\n",
              "      <td>1079</td>\n",
              "      <td>2502.32</td>\n",
              "      <td>1</td>\n",
              "      <td>2</td>\n",
              "      <td>Medium</td>\n",
              "      <td>...</td>\n",
              "      <td>False</td>\n",
              "      <td>False</td>\n",
              "      <td>True</td>\n",
              "      <td>False</td>\n",
              "      <td>False</td>\n",
              "      <td>False</td>\n",
              "      <td>False</td>\n",
              "      <td>False</td>\n",
              "      <td>True</td>\n",
              "      <td>False</td>\n",
              "    </tr>\n",
              "    <tr>\n",
              "      <th>1</th>\n",
              "      <td>6008529</td>\n",
              "      <td>Palm Jumeirah</td>\n",
              "      <td>25.106809</td>\n",
              "      <td>55.151201</td>\n",
              "      <td>2850000</td>\n",
              "      <td>1582</td>\n",
              "      <td>1801.52</td>\n",
              "      <td>2</td>\n",
              "      <td>2</td>\n",
              "      <td>Medium</td>\n",
              "      <td>...</td>\n",
              "      <td>False</td>\n",
              "      <td>False</td>\n",
              "      <td>True</td>\n",
              "      <td>True</td>\n",
              "      <td>False</td>\n",
              "      <td>False</td>\n",
              "      <td>False</td>\n",
              "      <td>False</td>\n",
              "      <td>True</td>\n",
              "      <td>False</td>\n",
              "    </tr>\n",
              "    <tr>\n",
              "      <th>2</th>\n",
              "      <td>6034542</td>\n",
              "      <td>Jumeirah Lake Towers</td>\n",
              "      <td>25.063302</td>\n",
              "      <td>55.137728</td>\n",
              "      <td>1150000</td>\n",
              "      <td>1951</td>\n",
              "      <td>589.44</td>\n",
              "      <td>3</td>\n",
              "      <td>5</td>\n",
              "      <td>Medium</td>\n",
              "      <td>...</td>\n",
              "      <td>False</td>\n",
              "      <td>True</td>\n",
              "      <td>True</td>\n",
              "      <td>True</td>\n",
              "      <td>False</td>\n",
              "      <td>False</td>\n",
              "      <td>False</td>\n",
              "      <td>True</td>\n",
              "      <td>True</td>\n",
              "      <td>True</td>\n",
              "    </tr>\n",
              "    <tr>\n",
              "      <th>3</th>\n",
              "      <td>6326063</td>\n",
              "      <td>Culture Village</td>\n",
              "      <td>25.227295</td>\n",
              "      <td>55.341761</td>\n",
              "      <td>2850000</td>\n",
              "      <td>2020</td>\n",
              "      <td>1410.89</td>\n",
              "      <td>2</td>\n",
              "      <td>3</td>\n",
              "      <td>Low</td>\n",
              "      <td>...</td>\n",
              "      <td>False</td>\n",
              "      <td>False</td>\n",
              "      <td>False</td>\n",
              "      <td>False</td>\n",
              "      <td>False</td>\n",
              "      <td>False</td>\n",
              "      <td>False</td>\n",
              "      <td>False</td>\n",
              "      <td>False</td>\n",
              "      <td>False</td>\n",
              "    </tr>\n",
              "    <tr>\n",
              "      <th>4</th>\n",
              "      <td>6356778</td>\n",
              "      <td>Palm Jumeirah</td>\n",
              "      <td>25.114275</td>\n",
              "      <td>55.139764</td>\n",
              "      <td>1729200</td>\n",
              "      <td>507</td>\n",
              "      <td>3410.65</td>\n",
              "      <td>0</td>\n",
              "      <td>1</td>\n",
              "      <td>Medium</td>\n",
              "      <td>...</td>\n",
              "      <td>False</td>\n",
              "      <td>True</td>\n",
              "      <td>True</td>\n",
              "      <td>True</td>\n",
              "      <td>True</td>\n",
              "      <td>False</td>\n",
              "      <td>False</td>\n",
              "      <td>True</td>\n",
              "      <td>True</td>\n",
              "      <td>False</td>\n",
              "    </tr>\n",
              "  </tbody>\n",
              "</table>\n",
              "<p>5 rows × 38 columns</p>\n",
              "</div>\n",
              "    <div class=\"colab-df-buttons\">\n",
              "\n",
              "  <div class=\"colab-df-container\">\n",
              "    <button class=\"colab-df-convert\" onclick=\"convertToInteractive('df-658028c6-f208-4994-98af-f53008338a55')\"\n",
              "            title=\"Convert this dataframe to an interactive table.\"\n",
              "            style=\"display:none;\">\n",
              "\n",
              "  <svg xmlns=\"http://www.w3.org/2000/svg\" height=\"24px\" viewBox=\"0 -960 960 960\">\n",
              "    <path d=\"M120-120v-720h720v720H120Zm60-500h600v-160H180v160Zm220 220h160v-160H400v160Zm0 220h160v-160H400v160ZM180-400h160v-160H180v160Zm440 0h160v-160H620v160ZM180-180h160v-160H180v160Zm440 0h160v-160H620v160Z\"/>\n",
              "  </svg>\n",
              "    </button>\n",
              "\n",
              "  <style>\n",
              "    .colab-df-container {\n",
              "      display:flex;\n",
              "      gap: 12px;\n",
              "    }\n",
              "\n",
              "    .colab-df-convert {\n",
              "      background-color: #E8F0FE;\n",
              "      border: none;\n",
              "      border-radius: 50%;\n",
              "      cursor: pointer;\n",
              "      display: none;\n",
              "      fill: #1967D2;\n",
              "      height: 32px;\n",
              "      padding: 0 0 0 0;\n",
              "      width: 32px;\n",
              "    }\n",
              "\n",
              "    .colab-df-convert:hover {\n",
              "      background-color: #E2EBFA;\n",
              "      box-shadow: 0px 1px 2px rgba(60, 64, 67, 0.3), 0px 1px 3px 1px rgba(60, 64, 67, 0.15);\n",
              "      fill: #174EA6;\n",
              "    }\n",
              "\n",
              "    .colab-df-buttons div {\n",
              "      margin-bottom: 4px;\n",
              "    }\n",
              "\n",
              "    [theme=dark] .colab-df-convert {\n",
              "      background-color: #3B4455;\n",
              "      fill: #D2E3FC;\n",
              "    }\n",
              "\n",
              "    [theme=dark] .colab-df-convert:hover {\n",
              "      background-color: #434B5C;\n",
              "      box-shadow: 0px 1px 3px 1px rgba(0, 0, 0, 0.15);\n",
              "      filter: drop-shadow(0px 1px 2px rgba(0, 0, 0, 0.3));\n",
              "      fill: #FFFFFF;\n",
              "    }\n",
              "  </style>\n",
              "\n",
              "    <script>\n",
              "      const buttonEl =\n",
              "        document.querySelector('#df-658028c6-f208-4994-98af-f53008338a55 button.colab-df-convert');\n",
              "      buttonEl.style.display =\n",
              "        google.colab.kernel.accessAllowed ? 'block' : 'none';\n",
              "\n",
              "      async function convertToInteractive(key) {\n",
              "        const element = document.querySelector('#df-658028c6-f208-4994-98af-f53008338a55');\n",
              "        const dataTable =\n",
              "          await google.colab.kernel.invokeFunction('convertToInteractive',\n",
              "                                                    [key], {});\n",
              "        if (!dataTable) return;\n",
              "\n",
              "        const docLinkHtml = 'Like what you see? Visit the ' +\n",
              "          '<a target=\"_blank\" href=https://colab.research.google.com/notebooks/data_table.ipynb>data table notebook</a>'\n",
              "          + ' to learn more about interactive tables.';\n",
              "        element.innerHTML = '';\n",
              "        dataTable['output_type'] = 'display_data';\n",
              "        await google.colab.output.renderOutput(dataTable, element);\n",
              "        const docLink = document.createElement('div');\n",
              "        docLink.innerHTML = docLinkHtml;\n",
              "        element.appendChild(docLink);\n",
              "      }\n",
              "    </script>\n",
              "  </div>\n",
              "\n",
              "\n",
              "<div id=\"df-f62f9537-3949-4a43-a939-49dfc461b5f0\">\n",
              "  <button class=\"colab-df-quickchart\" onclick=\"quickchart('df-f62f9537-3949-4a43-a939-49dfc461b5f0')\"\n",
              "            title=\"Suggest charts\"\n",
              "            style=\"display:none;\">\n",
              "\n",
              "<svg xmlns=\"http://www.w3.org/2000/svg\" height=\"24px\"viewBox=\"0 0 24 24\"\n",
              "     width=\"24px\">\n",
              "    <g>\n",
              "        <path d=\"M19 3H5c-1.1 0-2 .9-2 2v14c0 1.1.9 2 2 2h14c1.1 0 2-.9 2-2V5c0-1.1-.9-2-2-2zM9 17H7v-7h2v7zm4 0h-2V7h2v10zm4 0h-2v-4h2v4z\"/>\n",
              "    </g>\n",
              "</svg>\n",
              "  </button>\n",
              "\n",
              "<style>\n",
              "  .colab-df-quickchart {\n",
              "      --bg-color: #E8F0FE;\n",
              "      --fill-color: #1967D2;\n",
              "      --hover-bg-color: #E2EBFA;\n",
              "      --hover-fill-color: #174EA6;\n",
              "      --disabled-fill-color: #AAA;\n",
              "      --disabled-bg-color: #DDD;\n",
              "  }\n",
              "\n",
              "  [theme=dark] .colab-df-quickchart {\n",
              "      --bg-color: #3B4455;\n",
              "      --fill-color: #D2E3FC;\n",
              "      --hover-bg-color: #434B5C;\n",
              "      --hover-fill-color: #FFFFFF;\n",
              "      --disabled-bg-color: #3B4455;\n",
              "      --disabled-fill-color: #666;\n",
              "  }\n",
              "\n",
              "  .colab-df-quickchart {\n",
              "    background-color: var(--bg-color);\n",
              "    border: none;\n",
              "    border-radius: 50%;\n",
              "    cursor: pointer;\n",
              "    display: none;\n",
              "    fill: var(--fill-color);\n",
              "    height: 32px;\n",
              "    padding: 0;\n",
              "    width: 32px;\n",
              "  }\n",
              "\n",
              "  .colab-df-quickchart:hover {\n",
              "    background-color: var(--hover-bg-color);\n",
              "    box-shadow: 0 1px 2px rgba(60, 64, 67, 0.3), 0 1px 3px 1px rgba(60, 64, 67, 0.15);\n",
              "    fill: var(--button-hover-fill-color);\n",
              "  }\n",
              "\n",
              "  .colab-df-quickchart-complete:disabled,\n",
              "  .colab-df-quickchart-complete:disabled:hover {\n",
              "    background-color: var(--disabled-bg-color);\n",
              "    fill: var(--disabled-fill-color);\n",
              "    box-shadow: none;\n",
              "  }\n",
              "\n",
              "  .colab-df-spinner {\n",
              "    border: 2px solid var(--fill-color);\n",
              "    border-color: transparent;\n",
              "    border-bottom-color: var(--fill-color);\n",
              "    animation:\n",
              "      spin 1s steps(1) infinite;\n",
              "  }\n",
              "\n",
              "  @keyframes spin {\n",
              "    0% {\n",
              "      border-color: transparent;\n",
              "      border-bottom-color: var(--fill-color);\n",
              "      border-left-color: var(--fill-color);\n",
              "    }\n",
              "    20% {\n",
              "      border-color: transparent;\n",
              "      border-left-color: var(--fill-color);\n",
              "      border-top-color: var(--fill-color);\n",
              "    }\n",
              "    30% {\n",
              "      border-color: transparent;\n",
              "      border-left-color: var(--fill-color);\n",
              "      border-top-color: var(--fill-color);\n",
              "      border-right-color: var(--fill-color);\n",
              "    }\n",
              "    40% {\n",
              "      border-color: transparent;\n",
              "      border-right-color: var(--fill-color);\n",
              "      border-top-color: var(--fill-color);\n",
              "    }\n",
              "    60% {\n",
              "      border-color: transparent;\n",
              "      border-right-color: var(--fill-color);\n",
              "    }\n",
              "    80% {\n",
              "      border-color: transparent;\n",
              "      border-right-color: var(--fill-color);\n",
              "      border-bottom-color: var(--fill-color);\n",
              "    }\n",
              "    90% {\n",
              "      border-color: transparent;\n",
              "      border-bottom-color: var(--fill-color);\n",
              "    }\n",
              "  }\n",
              "</style>\n",
              "\n",
              "  <script>\n",
              "    async function quickchart(key) {\n",
              "      const quickchartButtonEl =\n",
              "        document.querySelector('#' + key + ' button');\n",
              "      quickchartButtonEl.disabled = true;  // To prevent multiple clicks.\n",
              "      quickchartButtonEl.classList.add('colab-df-spinner');\n",
              "      try {\n",
              "        const charts = await google.colab.kernel.invokeFunction(\n",
              "            'suggestCharts', [key], {});\n",
              "      } catch (error) {\n",
              "        console.error('Error during call to suggestCharts:', error);\n",
              "      }\n",
              "      quickchartButtonEl.classList.remove('colab-df-spinner');\n",
              "      quickchartButtonEl.classList.add('colab-df-quickchart-complete');\n",
              "    }\n",
              "    (() => {\n",
              "      let quickchartButtonEl =\n",
              "        document.querySelector('#df-f62f9537-3949-4a43-a939-49dfc461b5f0 button');\n",
              "      quickchartButtonEl.style.display =\n",
              "        google.colab.kernel.accessAllowed ? 'block' : 'none';\n",
              "    })();\n",
              "  </script>\n",
              "</div>\n",
              "    </div>\n",
              "  </div>\n"
            ]
          },
          "metadata": {},
          "execution_count": 11
        }
      ]
    },
    {
      "cell_type": "markdown",
      "source": [
        "### **1.1.2** Understanding Data\n",
        "\n"
      ],
      "metadata": {
        "id": "Ut_yMmcO2kXF"
      }
    },
    {
      "cell_type": "code",
      "source": [
        "df_properties.info()"
      ],
      "metadata": {
        "id": "IwzMbrAUHf3a",
        "colab": {
          "base_uri": "https://localhost:8080/"
        },
        "outputId": "04bf65ef-faac-4eda-9669-8f129b6405da"
      },
      "execution_count": 12,
      "outputs": [
        {
          "output_type": "stream",
          "name": "stdout",
          "text": [
            "<class 'pandas.core.frame.DataFrame'>\n",
            "RangeIndex: 1905 entries, 0 to 1904\n",
            "Data columns (total 38 columns):\n",
            " #   Column               Non-Null Count  Dtype  \n",
            "---  ------               --------------  -----  \n",
            " 0   id                   1905 non-null   int64  \n",
            " 1   neighborhood         1905 non-null   object \n",
            " 2   latitude             1905 non-null   float64\n",
            " 3   longitude            1905 non-null   float64\n",
            " 4   price                1905 non-null   int64  \n",
            " 5   size_in_sqft         1905 non-null   int64  \n",
            " 6   price_per_sqft       1905 non-null   float64\n",
            " 7   no_of_bedrooms       1905 non-null   int64  \n",
            " 8   no_of_bathrooms      1905 non-null   int64  \n",
            " 9   quality              1905 non-null   object \n",
            " 10  maid_room            1905 non-null   bool   \n",
            " 11  unfurnished          1905 non-null   bool   \n",
            " 12  balcony              1905 non-null   bool   \n",
            " 13  barbecue_area        1905 non-null   bool   \n",
            " 14  built_in_wardrobes   1905 non-null   bool   \n",
            " 15  central_ac           1905 non-null   bool   \n",
            " 16  childrens_play_area  1905 non-null   bool   \n",
            " 17  childrens_pool       1905 non-null   bool   \n",
            " 18  concierge            1905 non-null   bool   \n",
            " 19  covered_parking      1905 non-null   bool   \n",
            " 20  kitchen_appliances   1905 non-null   bool   \n",
            " 21  lobby_in_building    1905 non-null   bool   \n",
            " 22  maid_service         1905 non-null   bool   \n",
            " 23  networked            1905 non-null   bool   \n",
            " 24  pets_allowed         1905 non-null   bool   \n",
            " 25  private_garden       1905 non-null   bool   \n",
            " 26  private_gym          1905 non-null   bool   \n",
            " 27  private_jacuzzi      1905 non-null   bool   \n",
            " 28  private_pool         1905 non-null   bool   \n",
            " 29  security             1905 non-null   bool   \n",
            " 30  shared_gym           1905 non-null   bool   \n",
            " 31  shared_pool          1905 non-null   bool   \n",
            " 32  shared_spa           1905 non-null   bool   \n",
            " 33  study                1905 non-null   bool   \n",
            " 34  vastu_compliant      1905 non-null   bool   \n",
            " 35  view_of_landmark     1905 non-null   bool   \n",
            " 36  view_of_water        1905 non-null   bool   \n",
            " 37  walk_in_closet       1905 non-null   bool   \n",
            "dtypes: bool(28), float64(3), int64(5), object(2)\n",
            "memory usage: 201.0+ KB\n"
          ]
        }
      ]
    },
    {
      "cell_type": "code",
      "source": [
        "df_properties.describe()"
      ],
      "metadata": {
        "id": "oRoFFrURHhAC",
        "colab": {
          "base_uri": "https://localhost:8080/",
          "height": 300
        },
        "outputId": "56748983-6dfa-4bf8-aec3-58dbae5d204e"
      },
      "execution_count": 13,
      "outputs": [
        {
          "output_type": "execute_result",
          "data": {
            "text/plain": [
              "                 id     latitude    longitude         price  size_in_sqft  \\\n",
              "count  1.905000e+03  1905.000000  1905.000000  1.905000e+03   1905.000000   \n",
              "mean   7.573308e+06    25.116538    55.212338  2.085830e+06   1417.050394   \n",
              "std    1.925252e+05     0.062647     0.068794  2.913200e+06    891.487639   \n",
              "min    5.528049e+06    24.865992    55.069311  2.200000e+05    294.000000   \n",
              "25%    7.560167e+06    25.072791    55.145389  8.900000e+05    840.000000   \n",
              "50%    7.631829e+06    25.096700    55.207506  1.400000e+06   1271.000000   \n",
              "75%    7.670328e+06    25.188130    55.271797  2.200000e+06   1703.000000   \n",
              "max    7.706643e+06    25.273623    55.441623  3.500000e+07   9576.000000   \n",
              "\n",
              "       price_per_sqft  no_of_bedrooms  no_of_bathrooms  \n",
              "count     1905.000000     1905.000000      1905.000000  \n",
              "mean      1327.243785        1.793176         2.512861  \n",
              "std        668.473559        0.949489         1.063117  \n",
              "min        361.870000        0.000000         1.000000  \n",
              "25%        870.920000        1.000000         2.000000  \n",
              "50%       1169.590000        2.000000         2.000000  \n",
              "75%       1622.500000        2.000000         3.000000  \n",
              "max       4805.870000        5.000000         6.000000  "
            ],
            "text/html": [
              "\n",
              "  <div id=\"df-d2340b85-55d7-4998-b56a-bbbec2b378b6\" class=\"colab-df-container\">\n",
              "    <div>\n",
              "<style scoped>\n",
              "    .dataframe tbody tr th:only-of-type {\n",
              "        vertical-align: middle;\n",
              "    }\n",
              "\n",
              "    .dataframe tbody tr th {\n",
              "        vertical-align: top;\n",
              "    }\n",
              "\n",
              "    .dataframe thead th {\n",
              "        text-align: right;\n",
              "    }\n",
              "</style>\n",
              "<table border=\"1\" class=\"dataframe\">\n",
              "  <thead>\n",
              "    <tr style=\"text-align: right;\">\n",
              "      <th></th>\n",
              "      <th>id</th>\n",
              "      <th>latitude</th>\n",
              "      <th>longitude</th>\n",
              "      <th>price</th>\n",
              "      <th>size_in_sqft</th>\n",
              "      <th>price_per_sqft</th>\n",
              "      <th>no_of_bedrooms</th>\n",
              "      <th>no_of_bathrooms</th>\n",
              "    </tr>\n",
              "  </thead>\n",
              "  <tbody>\n",
              "    <tr>\n",
              "      <th>count</th>\n",
              "      <td>1.905000e+03</td>\n",
              "      <td>1905.000000</td>\n",
              "      <td>1905.000000</td>\n",
              "      <td>1.905000e+03</td>\n",
              "      <td>1905.000000</td>\n",
              "      <td>1905.000000</td>\n",
              "      <td>1905.000000</td>\n",
              "      <td>1905.000000</td>\n",
              "    </tr>\n",
              "    <tr>\n",
              "      <th>mean</th>\n",
              "      <td>7.573308e+06</td>\n",
              "      <td>25.116538</td>\n",
              "      <td>55.212338</td>\n",
              "      <td>2.085830e+06</td>\n",
              "      <td>1417.050394</td>\n",
              "      <td>1327.243785</td>\n",
              "      <td>1.793176</td>\n",
              "      <td>2.512861</td>\n",
              "    </tr>\n",
              "    <tr>\n",
              "      <th>std</th>\n",
              "      <td>1.925252e+05</td>\n",
              "      <td>0.062647</td>\n",
              "      <td>0.068794</td>\n",
              "      <td>2.913200e+06</td>\n",
              "      <td>891.487639</td>\n",
              "      <td>668.473559</td>\n",
              "      <td>0.949489</td>\n",
              "      <td>1.063117</td>\n",
              "    </tr>\n",
              "    <tr>\n",
              "      <th>min</th>\n",
              "      <td>5.528049e+06</td>\n",
              "      <td>24.865992</td>\n",
              "      <td>55.069311</td>\n",
              "      <td>2.200000e+05</td>\n",
              "      <td>294.000000</td>\n",
              "      <td>361.870000</td>\n",
              "      <td>0.000000</td>\n",
              "      <td>1.000000</td>\n",
              "    </tr>\n",
              "    <tr>\n",
              "      <th>25%</th>\n",
              "      <td>7.560167e+06</td>\n",
              "      <td>25.072791</td>\n",
              "      <td>55.145389</td>\n",
              "      <td>8.900000e+05</td>\n",
              "      <td>840.000000</td>\n",
              "      <td>870.920000</td>\n",
              "      <td>1.000000</td>\n",
              "      <td>2.000000</td>\n",
              "    </tr>\n",
              "    <tr>\n",
              "      <th>50%</th>\n",
              "      <td>7.631829e+06</td>\n",
              "      <td>25.096700</td>\n",
              "      <td>55.207506</td>\n",
              "      <td>1.400000e+06</td>\n",
              "      <td>1271.000000</td>\n",
              "      <td>1169.590000</td>\n",
              "      <td>2.000000</td>\n",
              "      <td>2.000000</td>\n",
              "    </tr>\n",
              "    <tr>\n",
              "      <th>75%</th>\n",
              "      <td>7.670328e+06</td>\n",
              "      <td>25.188130</td>\n",
              "      <td>55.271797</td>\n",
              "      <td>2.200000e+06</td>\n",
              "      <td>1703.000000</td>\n",
              "      <td>1622.500000</td>\n",
              "      <td>2.000000</td>\n",
              "      <td>3.000000</td>\n",
              "    </tr>\n",
              "    <tr>\n",
              "      <th>max</th>\n",
              "      <td>7.706643e+06</td>\n",
              "      <td>25.273623</td>\n",
              "      <td>55.441623</td>\n",
              "      <td>3.500000e+07</td>\n",
              "      <td>9576.000000</td>\n",
              "      <td>4805.870000</td>\n",
              "      <td>5.000000</td>\n",
              "      <td>6.000000</td>\n",
              "    </tr>\n",
              "  </tbody>\n",
              "</table>\n",
              "</div>\n",
              "    <div class=\"colab-df-buttons\">\n",
              "\n",
              "  <div class=\"colab-df-container\">\n",
              "    <button class=\"colab-df-convert\" onclick=\"convertToInteractive('df-d2340b85-55d7-4998-b56a-bbbec2b378b6')\"\n",
              "            title=\"Convert this dataframe to an interactive table.\"\n",
              "            style=\"display:none;\">\n",
              "\n",
              "  <svg xmlns=\"http://www.w3.org/2000/svg\" height=\"24px\" viewBox=\"0 -960 960 960\">\n",
              "    <path d=\"M120-120v-720h720v720H120Zm60-500h600v-160H180v160Zm220 220h160v-160H400v160Zm0 220h160v-160H400v160ZM180-400h160v-160H180v160Zm440 0h160v-160H620v160ZM180-180h160v-160H180v160Zm440 0h160v-160H620v160Z\"/>\n",
              "  </svg>\n",
              "    </button>\n",
              "\n",
              "  <style>\n",
              "    .colab-df-container {\n",
              "      display:flex;\n",
              "      gap: 12px;\n",
              "    }\n",
              "\n",
              "    .colab-df-convert {\n",
              "      background-color: #E8F0FE;\n",
              "      border: none;\n",
              "      border-radius: 50%;\n",
              "      cursor: pointer;\n",
              "      display: none;\n",
              "      fill: #1967D2;\n",
              "      height: 32px;\n",
              "      padding: 0 0 0 0;\n",
              "      width: 32px;\n",
              "    }\n",
              "\n",
              "    .colab-df-convert:hover {\n",
              "      background-color: #E2EBFA;\n",
              "      box-shadow: 0px 1px 2px rgba(60, 64, 67, 0.3), 0px 1px 3px 1px rgba(60, 64, 67, 0.15);\n",
              "      fill: #174EA6;\n",
              "    }\n",
              "\n",
              "    .colab-df-buttons div {\n",
              "      margin-bottom: 4px;\n",
              "    }\n",
              "\n",
              "    [theme=dark] .colab-df-convert {\n",
              "      background-color: #3B4455;\n",
              "      fill: #D2E3FC;\n",
              "    }\n",
              "\n",
              "    [theme=dark] .colab-df-convert:hover {\n",
              "      background-color: #434B5C;\n",
              "      box-shadow: 0px 1px 3px 1px rgba(0, 0, 0, 0.15);\n",
              "      filter: drop-shadow(0px 1px 2px rgba(0, 0, 0, 0.3));\n",
              "      fill: #FFFFFF;\n",
              "    }\n",
              "  </style>\n",
              "\n",
              "    <script>\n",
              "      const buttonEl =\n",
              "        document.querySelector('#df-d2340b85-55d7-4998-b56a-bbbec2b378b6 button.colab-df-convert');\n",
              "      buttonEl.style.display =\n",
              "        google.colab.kernel.accessAllowed ? 'block' : 'none';\n",
              "\n",
              "      async function convertToInteractive(key) {\n",
              "        const element = document.querySelector('#df-d2340b85-55d7-4998-b56a-bbbec2b378b6');\n",
              "        const dataTable =\n",
              "          await google.colab.kernel.invokeFunction('convertToInteractive',\n",
              "                                                    [key], {});\n",
              "        if (!dataTable) return;\n",
              "\n",
              "        const docLinkHtml = 'Like what you see? Visit the ' +\n",
              "          '<a target=\"_blank\" href=https://colab.research.google.com/notebooks/data_table.ipynb>data table notebook</a>'\n",
              "          + ' to learn more about interactive tables.';\n",
              "        element.innerHTML = '';\n",
              "        dataTable['output_type'] = 'display_data';\n",
              "        await google.colab.output.renderOutput(dataTable, element);\n",
              "        const docLink = document.createElement('div');\n",
              "        docLink.innerHTML = docLinkHtml;\n",
              "        element.appendChild(docLink);\n",
              "      }\n",
              "    </script>\n",
              "  </div>\n",
              "\n",
              "\n",
              "<div id=\"df-cce8bc90-cea8-48ae-bb5b-da120ed37e03\">\n",
              "  <button class=\"colab-df-quickchart\" onclick=\"quickchart('df-cce8bc90-cea8-48ae-bb5b-da120ed37e03')\"\n",
              "            title=\"Suggest charts\"\n",
              "            style=\"display:none;\">\n",
              "\n",
              "<svg xmlns=\"http://www.w3.org/2000/svg\" height=\"24px\"viewBox=\"0 0 24 24\"\n",
              "     width=\"24px\">\n",
              "    <g>\n",
              "        <path d=\"M19 3H5c-1.1 0-2 .9-2 2v14c0 1.1.9 2 2 2h14c1.1 0 2-.9 2-2V5c0-1.1-.9-2-2-2zM9 17H7v-7h2v7zm4 0h-2V7h2v10zm4 0h-2v-4h2v4z\"/>\n",
              "    </g>\n",
              "</svg>\n",
              "  </button>\n",
              "\n",
              "<style>\n",
              "  .colab-df-quickchart {\n",
              "      --bg-color: #E8F0FE;\n",
              "      --fill-color: #1967D2;\n",
              "      --hover-bg-color: #E2EBFA;\n",
              "      --hover-fill-color: #174EA6;\n",
              "      --disabled-fill-color: #AAA;\n",
              "      --disabled-bg-color: #DDD;\n",
              "  }\n",
              "\n",
              "  [theme=dark] .colab-df-quickchart {\n",
              "      --bg-color: #3B4455;\n",
              "      --fill-color: #D2E3FC;\n",
              "      --hover-bg-color: #434B5C;\n",
              "      --hover-fill-color: #FFFFFF;\n",
              "      --disabled-bg-color: #3B4455;\n",
              "      --disabled-fill-color: #666;\n",
              "  }\n",
              "\n",
              "  .colab-df-quickchart {\n",
              "    background-color: var(--bg-color);\n",
              "    border: none;\n",
              "    border-radius: 50%;\n",
              "    cursor: pointer;\n",
              "    display: none;\n",
              "    fill: var(--fill-color);\n",
              "    height: 32px;\n",
              "    padding: 0;\n",
              "    width: 32px;\n",
              "  }\n",
              "\n",
              "  .colab-df-quickchart:hover {\n",
              "    background-color: var(--hover-bg-color);\n",
              "    box-shadow: 0 1px 2px rgba(60, 64, 67, 0.3), 0 1px 3px 1px rgba(60, 64, 67, 0.15);\n",
              "    fill: var(--button-hover-fill-color);\n",
              "  }\n",
              "\n",
              "  .colab-df-quickchart-complete:disabled,\n",
              "  .colab-df-quickchart-complete:disabled:hover {\n",
              "    background-color: var(--disabled-bg-color);\n",
              "    fill: var(--disabled-fill-color);\n",
              "    box-shadow: none;\n",
              "  }\n",
              "\n",
              "  .colab-df-spinner {\n",
              "    border: 2px solid var(--fill-color);\n",
              "    border-color: transparent;\n",
              "    border-bottom-color: var(--fill-color);\n",
              "    animation:\n",
              "      spin 1s steps(1) infinite;\n",
              "  }\n",
              "\n",
              "  @keyframes spin {\n",
              "    0% {\n",
              "      border-color: transparent;\n",
              "      border-bottom-color: var(--fill-color);\n",
              "      border-left-color: var(--fill-color);\n",
              "    }\n",
              "    20% {\n",
              "      border-color: transparent;\n",
              "      border-left-color: var(--fill-color);\n",
              "      border-top-color: var(--fill-color);\n",
              "    }\n",
              "    30% {\n",
              "      border-color: transparent;\n",
              "      border-left-color: var(--fill-color);\n",
              "      border-top-color: var(--fill-color);\n",
              "      border-right-color: var(--fill-color);\n",
              "    }\n",
              "    40% {\n",
              "      border-color: transparent;\n",
              "      border-right-color: var(--fill-color);\n",
              "      border-top-color: var(--fill-color);\n",
              "    }\n",
              "    60% {\n",
              "      border-color: transparent;\n",
              "      border-right-color: var(--fill-color);\n",
              "    }\n",
              "    80% {\n",
              "      border-color: transparent;\n",
              "      border-right-color: var(--fill-color);\n",
              "      border-bottom-color: var(--fill-color);\n",
              "    }\n",
              "    90% {\n",
              "      border-color: transparent;\n",
              "      border-bottom-color: var(--fill-color);\n",
              "    }\n",
              "  }\n",
              "</style>\n",
              "\n",
              "  <script>\n",
              "    async function quickchart(key) {\n",
              "      const quickchartButtonEl =\n",
              "        document.querySelector('#' + key + ' button');\n",
              "      quickchartButtonEl.disabled = true;  // To prevent multiple clicks.\n",
              "      quickchartButtonEl.classList.add('colab-df-spinner');\n",
              "      try {\n",
              "        const charts = await google.colab.kernel.invokeFunction(\n",
              "            'suggestCharts', [key], {});\n",
              "      } catch (error) {\n",
              "        console.error('Error during call to suggestCharts:', error);\n",
              "      }\n",
              "      quickchartButtonEl.classList.remove('colab-df-spinner');\n",
              "      quickchartButtonEl.classList.add('colab-df-quickchart-complete');\n",
              "    }\n",
              "    (() => {\n",
              "      let quickchartButtonEl =\n",
              "        document.querySelector('#df-cce8bc90-cea8-48ae-bb5b-da120ed37e03 button');\n",
              "      quickchartButtonEl.style.display =\n",
              "        google.colab.kernel.accessAllowed ? 'block' : 'none';\n",
              "    })();\n",
              "  </script>\n",
              "</div>\n",
              "    </div>\n",
              "  </div>\n"
            ]
          },
          "metadata": {},
          "execution_count": 13
        }
      ]
    },
    {
      "cell_type": "markdown",
      "source": [
        "## **1.2** EDA\n",
        "\n"
      ],
      "metadata": {
        "id": "LsDRMCdfkACq"
      }
    },
    {
      "cell_type": "markdown",
      "source": [
        "### **1.2.1** Visualization"
      ],
      "metadata": {
        "id": "YwLDb9QE6sEF"
      }
    },
    {
      "cell_type": "markdown",
      "source": [
        "#### (a) Examining Neighborhood and Quality"
      ],
      "metadata": {
        "id": "SCE6Y6TF7thU"
      }
    },
    {
      "cell_type": "markdown",
      "source": [
        "For the ***top ten neighborhoods with the most properties***, we want to find the number of Low, Medium, High, Ultra listings from the `quality` column.\n",
        "\n"
      ],
      "metadata": {
        "id": "pCOF-tYX9zVV"
      }
    },
    {
      "cell_type": "code",
      "source": [
        "top_ten_neighborhoods = df_properties[['id', 'neighborhood']].groupby('neighborhood').count().sort_values(by = 'id', ascending = False).head(10).reset_index();\n",
        "top_ten_neighborhoods"
      ],
      "metadata": {
        "id": "JVMB6q7YP6pM",
        "colab": {
          "base_uri": "https://localhost:8080/",
          "height": 363
        },
        "outputId": "f2139a5f-38bb-4d51-c7a4-8755d6fdc324"
      },
      "execution_count": 14,
      "outputs": [
        {
          "output_type": "execute_result",
          "data": {
            "text/plain": [
              "               neighborhood   id\n",
              "0            Downtown Dubai  302\n",
              "1              Dubai Marina  288\n",
              "2   Jumeirah Village Circle  200\n",
              "3             Palm Jumeirah  178\n",
              "4  Jumeirah Beach Residence  116\n",
              "5              Business Bay   97\n",
              "6      Jumeirah Lake Towers   70\n",
              "7        Dubai Hills Estate   53\n",
              "8                 The Views   47\n",
              "9                  Jumeirah   39"
            ],
            "text/html": [
              "\n",
              "  <div id=\"df-477c82c5-9c78-4d53-b9ba-6f620309e7fe\" class=\"colab-df-container\">\n",
              "    <div>\n",
              "<style scoped>\n",
              "    .dataframe tbody tr th:only-of-type {\n",
              "        vertical-align: middle;\n",
              "    }\n",
              "\n",
              "    .dataframe tbody tr th {\n",
              "        vertical-align: top;\n",
              "    }\n",
              "\n",
              "    .dataframe thead th {\n",
              "        text-align: right;\n",
              "    }\n",
              "</style>\n",
              "<table border=\"1\" class=\"dataframe\">\n",
              "  <thead>\n",
              "    <tr style=\"text-align: right;\">\n",
              "      <th></th>\n",
              "      <th>neighborhood</th>\n",
              "      <th>id</th>\n",
              "    </tr>\n",
              "  </thead>\n",
              "  <tbody>\n",
              "    <tr>\n",
              "      <th>0</th>\n",
              "      <td>Downtown Dubai</td>\n",
              "      <td>302</td>\n",
              "    </tr>\n",
              "    <tr>\n",
              "      <th>1</th>\n",
              "      <td>Dubai Marina</td>\n",
              "      <td>288</td>\n",
              "    </tr>\n",
              "    <tr>\n",
              "      <th>2</th>\n",
              "      <td>Jumeirah Village Circle</td>\n",
              "      <td>200</td>\n",
              "    </tr>\n",
              "    <tr>\n",
              "      <th>3</th>\n",
              "      <td>Palm Jumeirah</td>\n",
              "      <td>178</td>\n",
              "    </tr>\n",
              "    <tr>\n",
              "      <th>4</th>\n",
              "      <td>Jumeirah Beach Residence</td>\n",
              "      <td>116</td>\n",
              "    </tr>\n",
              "    <tr>\n",
              "      <th>5</th>\n",
              "      <td>Business Bay</td>\n",
              "      <td>97</td>\n",
              "    </tr>\n",
              "    <tr>\n",
              "      <th>6</th>\n",
              "      <td>Jumeirah Lake Towers</td>\n",
              "      <td>70</td>\n",
              "    </tr>\n",
              "    <tr>\n",
              "      <th>7</th>\n",
              "      <td>Dubai Hills Estate</td>\n",
              "      <td>53</td>\n",
              "    </tr>\n",
              "    <tr>\n",
              "      <th>8</th>\n",
              "      <td>The Views</td>\n",
              "      <td>47</td>\n",
              "    </tr>\n",
              "    <tr>\n",
              "      <th>9</th>\n",
              "      <td>Jumeirah</td>\n",
              "      <td>39</td>\n",
              "    </tr>\n",
              "  </tbody>\n",
              "</table>\n",
              "</div>\n",
              "    <div class=\"colab-df-buttons\">\n",
              "\n",
              "  <div class=\"colab-df-container\">\n",
              "    <button class=\"colab-df-convert\" onclick=\"convertToInteractive('df-477c82c5-9c78-4d53-b9ba-6f620309e7fe')\"\n",
              "            title=\"Convert this dataframe to an interactive table.\"\n",
              "            style=\"display:none;\">\n",
              "\n",
              "  <svg xmlns=\"http://www.w3.org/2000/svg\" height=\"24px\" viewBox=\"0 -960 960 960\">\n",
              "    <path d=\"M120-120v-720h720v720H120Zm60-500h600v-160H180v160Zm220 220h160v-160H400v160Zm0 220h160v-160H400v160ZM180-400h160v-160H180v160Zm440 0h160v-160H620v160ZM180-180h160v-160H180v160Zm440 0h160v-160H620v160Z\"/>\n",
              "  </svg>\n",
              "    </button>\n",
              "\n",
              "  <style>\n",
              "    .colab-df-container {\n",
              "      display:flex;\n",
              "      gap: 12px;\n",
              "    }\n",
              "\n",
              "    .colab-df-convert {\n",
              "      background-color: #E8F0FE;\n",
              "      border: none;\n",
              "      border-radius: 50%;\n",
              "      cursor: pointer;\n",
              "      display: none;\n",
              "      fill: #1967D2;\n",
              "      height: 32px;\n",
              "      padding: 0 0 0 0;\n",
              "      width: 32px;\n",
              "    }\n",
              "\n",
              "    .colab-df-convert:hover {\n",
              "      background-color: #E2EBFA;\n",
              "      box-shadow: 0px 1px 2px rgba(60, 64, 67, 0.3), 0px 1px 3px 1px rgba(60, 64, 67, 0.15);\n",
              "      fill: #174EA6;\n",
              "    }\n",
              "\n",
              "    .colab-df-buttons div {\n",
              "      margin-bottom: 4px;\n",
              "    }\n",
              "\n",
              "    [theme=dark] .colab-df-convert {\n",
              "      background-color: #3B4455;\n",
              "      fill: #D2E3FC;\n",
              "    }\n",
              "\n",
              "    [theme=dark] .colab-df-convert:hover {\n",
              "      background-color: #434B5C;\n",
              "      box-shadow: 0px 1px 3px 1px rgba(0, 0, 0, 0.15);\n",
              "      filter: drop-shadow(0px 1px 2px rgba(0, 0, 0, 0.3));\n",
              "      fill: #FFFFFF;\n",
              "    }\n",
              "  </style>\n",
              "\n",
              "    <script>\n",
              "      const buttonEl =\n",
              "        document.querySelector('#df-477c82c5-9c78-4d53-b9ba-6f620309e7fe button.colab-df-convert');\n",
              "      buttonEl.style.display =\n",
              "        google.colab.kernel.accessAllowed ? 'block' : 'none';\n",
              "\n",
              "      async function convertToInteractive(key) {\n",
              "        const element = document.querySelector('#df-477c82c5-9c78-4d53-b9ba-6f620309e7fe');\n",
              "        const dataTable =\n",
              "          await google.colab.kernel.invokeFunction('convertToInteractive',\n",
              "                                                    [key], {});\n",
              "        if (!dataTable) return;\n",
              "\n",
              "        const docLinkHtml = 'Like what you see? Visit the ' +\n",
              "          '<a target=\"_blank\" href=https://colab.research.google.com/notebooks/data_table.ipynb>data table notebook</a>'\n",
              "          + ' to learn more about interactive tables.';\n",
              "        element.innerHTML = '';\n",
              "        dataTable['output_type'] = 'display_data';\n",
              "        await google.colab.output.renderOutput(dataTable, element);\n",
              "        const docLink = document.createElement('div');\n",
              "        docLink.innerHTML = docLinkHtml;\n",
              "        element.appendChild(docLink);\n",
              "      }\n",
              "    </script>\n",
              "  </div>\n",
              "\n",
              "\n",
              "<div id=\"df-d0de3660-cb8e-49d5-8640-53db7d0c9d4d\">\n",
              "  <button class=\"colab-df-quickchart\" onclick=\"quickchart('df-d0de3660-cb8e-49d5-8640-53db7d0c9d4d')\"\n",
              "            title=\"Suggest charts\"\n",
              "            style=\"display:none;\">\n",
              "\n",
              "<svg xmlns=\"http://www.w3.org/2000/svg\" height=\"24px\"viewBox=\"0 0 24 24\"\n",
              "     width=\"24px\">\n",
              "    <g>\n",
              "        <path d=\"M19 3H5c-1.1 0-2 .9-2 2v14c0 1.1.9 2 2 2h14c1.1 0 2-.9 2-2V5c0-1.1-.9-2-2-2zM9 17H7v-7h2v7zm4 0h-2V7h2v10zm4 0h-2v-4h2v4z\"/>\n",
              "    </g>\n",
              "</svg>\n",
              "  </button>\n",
              "\n",
              "<style>\n",
              "  .colab-df-quickchart {\n",
              "      --bg-color: #E8F0FE;\n",
              "      --fill-color: #1967D2;\n",
              "      --hover-bg-color: #E2EBFA;\n",
              "      --hover-fill-color: #174EA6;\n",
              "      --disabled-fill-color: #AAA;\n",
              "      --disabled-bg-color: #DDD;\n",
              "  }\n",
              "\n",
              "  [theme=dark] .colab-df-quickchart {\n",
              "      --bg-color: #3B4455;\n",
              "      --fill-color: #D2E3FC;\n",
              "      --hover-bg-color: #434B5C;\n",
              "      --hover-fill-color: #FFFFFF;\n",
              "      --disabled-bg-color: #3B4455;\n",
              "      --disabled-fill-color: #666;\n",
              "  }\n",
              "\n",
              "  .colab-df-quickchart {\n",
              "    background-color: var(--bg-color);\n",
              "    border: none;\n",
              "    border-radius: 50%;\n",
              "    cursor: pointer;\n",
              "    display: none;\n",
              "    fill: var(--fill-color);\n",
              "    height: 32px;\n",
              "    padding: 0;\n",
              "    width: 32px;\n",
              "  }\n",
              "\n",
              "  .colab-df-quickchart:hover {\n",
              "    background-color: var(--hover-bg-color);\n",
              "    box-shadow: 0 1px 2px rgba(60, 64, 67, 0.3), 0 1px 3px 1px rgba(60, 64, 67, 0.15);\n",
              "    fill: var(--button-hover-fill-color);\n",
              "  }\n",
              "\n",
              "  .colab-df-quickchart-complete:disabled,\n",
              "  .colab-df-quickchart-complete:disabled:hover {\n",
              "    background-color: var(--disabled-bg-color);\n",
              "    fill: var(--disabled-fill-color);\n",
              "    box-shadow: none;\n",
              "  }\n",
              "\n",
              "  .colab-df-spinner {\n",
              "    border: 2px solid var(--fill-color);\n",
              "    border-color: transparent;\n",
              "    border-bottom-color: var(--fill-color);\n",
              "    animation:\n",
              "      spin 1s steps(1) infinite;\n",
              "  }\n",
              "\n",
              "  @keyframes spin {\n",
              "    0% {\n",
              "      border-color: transparent;\n",
              "      border-bottom-color: var(--fill-color);\n",
              "      border-left-color: var(--fill-color);\n",
              "    }\n",
              "    20% {\n",
              "      border-color: transparent;\n",
              "      border-left-color: var(--fill-color);\n",
              "      border-top-color: var(--fill-color);\n",
              "    }\n",
              "    30% {\n",
              "      border-color: transparent;\n",
              "      border-left-color: var(--fill-color);\n",
              "      border-top-color: var(--fill-color);\n",
              "      border-right-color: var(--fill-color);\n",
              "    }\n",
              "    40% {\n",
              "      border-color: transparent;\n",
              "      border-right-color: var(--fill-color);\n",
              "      border-top-color: var(--fill-color);\n",
              "    }\n",
              "    60% {\n",
              "      border-color: transparent;\n",
              "      border-right-color: var(--fill-color);\n",
              "    }\n",
              "    80% {\n",
              "      border-color: transparent;\n",
              "      border-right-color: var(--fill-color);\n",
              "      border-bottom-color: var(--fill-color);\n",
              "    }\n",
              "    90% {\n",
              "      border-color: transparent;\n",
              "      border-bottom-color: var(--fill-color);\n",
              "    }\n",
              "  }\n",
              "</style>\n",
              "\n",
              "  <script>\n",
              "    async function quickchart(key) {\n",
              "      const quickchartButtonEl =\n",
              "        document.querySelector('#' + key + ' button');\n",
              "      quickchartButtonEl.disabled = true;  // To prevent multiple clicks.\n",
              "      quickchartButtonEl.classList.add('colab-df-spinner');\n",
              "      try {\n",
              "        const charts = await google.colab.kernel.invokeFunction(\n",
              "            'suggestCharts', [key], {});\n",
              "      } catch (error) {\n",
              "        console.error('Error during call to suggestCharts:', error);\n",
              "      }\n",
              "      quickchartButtonEl.classList.remove('colab-df-spinner');\n",
              "      quickchartButtonEl.classList.add('colab-df-quickchart-complete');\n",
              "    }\n",
              "    (() => {\n",
              "      let quickchartButtonEl =\n",
              "        document.querySelector('#df-d0de3660-cb8e-49d5-8640-53db7d0c9d4d button');\n",
              "      quickchartButtonEl.style.display =\n",
              "        google.colab.kernel.accessAllowed ? 'block' : 'none';\n",
              "    })();\n",
              "  </script>\n",
              "</div>\n",
              "    </div>\n",
              "  </div>\n"
            ]
          },
          "metadata": {},
          "execution_count": 14
        }
      ]
    },
    {
      "cell_type": "code",
      "source": [
        "ten_neighborhoods_df = top_ten_neighborhoods[['neighborhood']].merge(df_properties, on = 'neighborhood')\n",
        "ten_neighborhoods_df"
      ],
      "metadata": {
        "id": "N7Zcv8VVP6rt",
        "colab": {
          "base_uri": "https://localhost:8080/",
          "height": 530
        },
        "outputId": "cb932c65-2fc4-4fd2-8eed-b7cbf1e1e2ca"
      },
      "execution_count": 15,
      "outputs": [
        {
          "output_type": "execute_result",
          "data": {
            "text/plain": [
              "        neighborhood       id   latitude  longitude    price  size_in_sqft  \\\n",
              "0     Downtown Dubai  6406935  25.194935  55.282665  2690000          1521   \n",
              "1     Downtown Dubai  6473651  25.198796  55.271342  3550000          1918   \n",
              "2     Downtown Dubai  6530645  25.198316  55.270758  2700000          1348   \n",
              "3     Downtown Dubai  6562472  25.197020  55.271023  1490000          1167   \n",
              "4     Downtown Dubai  6728311  25.197316  55.274196  3999900          2323   \n",
              "...              ...      ...        ...        ...      ...           ...   \n",
              "1385        Jumeirah  7692445  25.240419  55.252770  2270000          1216   \n",
              "1386        Jumeirah  7695774  25.240419  55.252770  1366000           816   \n",
              "1387        Jumeirah  7695790  25.215192  55.235827  4905000          1574   \n",
              "1388        Jumeirah  7695797  25.215192  55.235827  9209000          2249   \n",
              "1389        Jumeirah  7698774  25.240419  55.252770  2250000          1341   \n",
              "\n",
              "      price_per_sqft  no_of_bedrooms  no_of_bathrooms quality  ...  \\\n",
              "0            1768.57               2                3  Medium  ...   \n",
              "1            1850.89               3                4     Low  ...   \n",
              "2            2002.97               2                3  Medium  ...   \n",
              "3            1276.78               2                2  Medium  ...   \n",
              "4            1721.87               3                4  Medium  ...   \n",
              "...              ...             ...              ...     ...  ...   \n",
              "1385         1866.78               2                3  Medium  ...   \n",
              "1386         1674.02               1                1  Medium  ...   \n",
              "1387         3116.26               1                1  Medium  ...   \n",
              "1388         4094.71               2                2  Medium  ...   \n",
              "1389         1677.85               2                3  Medium  ...   \n",
              "\n",
              "      private_pool  security  shared_gym  shared_pool  shared_spa  study  \\\n",
              "0            False     False        True         True       False  False   \n",
              "1            False     False       False         True       False  False   \n",
              "2            False     False       False        False       False  False   \n",
              "3            False     False        True         True       False  False   \n",
              "4            False     False        True         True       False  False   \n",
              "...            ...       ...         ...          ...         ...    ...   \n",
              "1385         False     False        True         True       False  False   \n",
              "1386         False     False        True         True       False  False   \n",
              "1387         False     False        True         True       False  False   \n",
              "1388         False     False        True         True       False  False   \n",
              "1389         False     False        True         True       False  False   \n",
              "\n",
              "      vastu_compliant  view_of_landmark  view_of_water  walk_in_closet  \n",
              "0               False             False           True           False  \n",
              "1               False             False           True           False  \n",
              "2               False             False           True           False  \n",
              "3               False             False          False           False  \n",
              "4               False             False           True           False  \n",
              "...               ...               ...            ...             ...  \n",
              "1385            False             False          False            True  \n",
              "1386            False             False           True           False  \n",
              "1387            False             False           True           False  \n",
              "1388            False             False           True           False  \n",
              "1389            False             False          False           False  \n",
              "\n",
              "[1390 rows x 38 columns]"
            ],
            "text/html": [
              "\n",
              "  <div id=\"df-10d7b6dd-eb8a-4633-8db5-1aba2c7573fb\" class=\"colab-df-container\">\n",
              "    <div>\n",
              "<style scoped>\n",
              "    .dataframe tbody tr th:only-of-type {\n",
              "        vertical-align: middle;\n",
              "    }\n",
              "\n",
              "    .dataframe tbody tr th {\n",
              "        vertical-align: top;\n",
              "    }\n",
              "\n",
              "    .dataframe thead th {\n",
              "        text-align: right;\n",
              "    }\n",
              "</style>\n",
              "<table border=\"1\" class=\"dataframe\">\n",
              "  <thead>\n",
              "    <tr style=\"text-align: right;\">\n",
              "      <th></th>\n",
              "      <th>neighborhood</th>\n",
              "      <th>id</th>\n",
              "      <th>latitude</th>\n",
              "      <th>longitude</th>\n",
              "      <th>price</th>\n",
              "      <th>size_in_sqft</th>\n",
              "      <th>price_per_sqft</th>\n",
              "      <th>no_of_bedrooms</th>\n",
              "      <th>no_of_bathrooms</th>\n",
              "      <th>quality</th>\n",
              "      <th>...</th>\n",
              "      <th>private_pool</th>\n",
              "      <th>security</th>\n",
              "      <th>shared_gym</th>\n",
              "      <th>shared_pool</th>\n",
              "      <th>shared_spa</th>\n",
              "      <th>study</th>\n",
              "      <th>vastu_compliant</th>\n",
              "      <th>view_of_landmark</th>\n",
              "      <th>view_of_water</th>\n",
              "      <th>walk_in_closet</th>\n",
              "    </tr>\n",
              "  </thead>\n",
              "  <tbody>\n",
              "    <tr>\n",
              "      <th>0</th>\n",
              "      <td>Downtown Dubai</td>\n",
              "      <td>6406935</td>\n",
              "      <td>25.194935</td>\n",
              "      <td>55.282665</td>\n",
              "      <td>2690000</td>\n",
              "      <td>1521</td>\n",
              "      <td>1768.57</td>\n",
              "      <td>2</td>\n",
              "      <td>3</td>\n",
              "      <td>Medium</td>\n",
              "      <td>...</td>\n",
              "      <td>False</td>\n",
              "      <td>False</td>\n",
              "      <td>True</td>\n",
              "      <td>True</td>\n",
              "      <td>False</td>\n",
              "      <td>False</td>\n",
              "      <td>False</td>\n",
              "      <td>False</td>\n",
              "      <td>True</td>\n",
              "      <td>False</td>\n",
              "    </tr>\n",
              "    <tr>\n",
              "      <th>1</th>\n",
              "      <td>Downtown Dubai</td>\n",
              "      <td>6473651</td>\n",
              "      <td>25.198796</td>\n",
              "      <td>55.271342</td>\n",
              "      <td>3550000</td>\n",
              "      <td>1918</td>\n",
              "      <td>1850.89</td>\n",
              "      <td>3</td>\n",
              "      <td>4</td>\n",
              "      <td>Low</td>\n",
              "      <td>...</td>\n",
              "      <td>False</td>\n",
              "      <td>False</td>\n",
              "      <td>False</td>\n",
              "      <td>True</td>\n",
              "      <td>False</td>\n",
              "      <td>False</td>\n",
              "      <td>False</td>\n",
              "      <td>False</td>\n",
              "      <td>True</td>\n",
              "      <td>False</td>\n",
              "    </tr>\n",
              "    <tr>\n",
              "      <th>2</th>\n",
              "      <td>Downtown Dubai</td>\n",
              "      <td>6530645</td>\n",
              "      <td>25.198316</td>\n",
              "      <td>55.270758</td>\n",
              "      <td>2700000</td>\n",
              "      <td>1348</td>\n",
              "      <td>2002.97</td>\n",
              "      <td>2</td>\n",
              "      <td>3</td>\n",
              "      <td>Medium</td>\n",
              "      <td>...</td>\n",
              "      <td>False</td>\n",
              "      <td>False</td>\n",
              "      <td>False</td>\n",
              "      <td>False</td>\n",
              "      <td>False</td>\n",
              "      <td>False</td>\n",
              "      <td>False</td>\n",
              "      <td>False</td>\n",
              "      <td>True</td>\n",
              "      <td>False</td>\n",
              "    </tr>\n",
              "    <tr>\n",
              "      <th>3</th>\n",
              "      <td>Downtown Dubai</td>\n",
              "      <td>6562472</td>\n",
              "      <td>25.197020</td>\n",
              "      <td>55.271023</td>\n",
              "      <td>1490000</td>\n",
              "      <td>1167</td>\n",
              "      <td>1276.78</td>\n",
              "      <td>2</td>\n",
              "      <td>2</td>\n",
              "      <td>Medium</td>\n",
              "      <td>...</td>\n",
              "      <td>False</td>\n",
              "      <td>False</td>\n",
              "      <td>True</td>\n",
              "      <td>True</td>\n",
              "      <td>False</td>\n",
              "      <td>False</td>\n",
              "      <td>False</td>\n",
              "      <td>False</td>\n",
              "      <td>False</td>\n",
              "      <td>False</td>\n",
              "    </tr>\n",
              "    <tr>\n",
              "      <th>4</th>\n",
              "      <td>Downtown Dubai</td>\n",
              "      <td>6728311</td>\n",
              "      <td>25.197316</td>\n",
              "      <td>55.274196</td>\n",
              "      <td>3999900</td>\n",
              "      <td>2323</td>\n",
              "      <td>1721.87</td>\n",
              "      <td>3</td>\n",
              "      <td>4</td>\n",
              "      <td>Medium</td>\n",
              "      <td>...</td>\n",
              "      <td>False</td>\n",
              "      <td>False</td>\n",
              "      <td>True</td>\n",
              "      <td>True</td>\n",
              "      <td>False</td>\n",
              "      <td>False</td>\n",
              "      <td>False</td>\n",
              "      <td>False</td>\n",
              "      <td>True</td>\n",
              "      <td>False</td>\n",
              "    </tr>\n",
              "    <tr>\n",
              "      <th>...</th>\n",
              "      <td>...</td>\n",
              "      <td>...</td>\n",
              "      <td>...</td>\n",
              "      <td>...</td>\n",
              "      <td>...</td>\n",
              "      <td>...</td>\n",
              "      <td>...</td>\n",
              "      <td>...</td>\n",
              "      <td>...</td>\n",
              "      <td>...</td>\n",
              "      <td>...</td>\n",
              "      <td>...</td>\n",
              "      <td>...</td>\n",
              "      <td>...</td>\n",
              "      <td>...</td>\n",
              "      <td>...</td>\n",
              "      <td>...</td>\n",
              "      <td>...</td>\n",
              "      <td>...</td>\n",
              "      <td>...</td>\n",
              "      <td>...</td>\n",
              "    </tr>\n",
              "    <tr>\n",
              "      <th>1385</th>\n",
              "      <td>Jumeirah</td>\n",
              "      <td>7692445</td>\n",
              "      <td>25.240419</td>\n",
              "      <td>55.252770</td>\n",
              "      <td>2270000</td>\n",
              "      <td>1216</td>\n",
              "      <td>1866.78</td>\n",
              "      <td>2</td>\n",
              "      <td>3</td>\n",
              "      <td>Medium</td>\n",
              "      <td>...</td>\n",
              "      <td>False</td>\n",
              "      <td>False</td>\n",
              "      <td>True</td>\n",
              "      <td>True</td>\n",
              "      <td>False</td>\n",
              "      <td>False</td>\n",
              "      <td>False</td>\n",
              "      <td>False</td>\n",
              "      <td>False</td>\n",
              "      <td>True</td>\n",
              "    </tr>\n",
              "    <tr>\n",
              "      <th>1386</th>\n",
              "      <td>Jumeirah</td>\n",
              "      <td>7695774</td>\n",
              "      <td>25.240419</td>\n",
              "      <td>55.252770</td>\n",
              "      <td>1366000</td>\n",
              "      <td>816</td>\n",
              "      <td>1674.02</td>\n",
              "      <td>1</td>\n",
              "      <td>1</td>\n",
              "      <td>Medium</td>\n",
              "      <td>...</td>\n",
              "      <td>False</td>\n",
              "      <td>False</td>\n",
              "      <td>True</td>\n",
              "      <td>True</td>\n",
              "      <td>False</td>\n",
              "      <td>False</td>\n",
              "      <td>False</td>\n",
              "      <td>False</td>\n",
              "      <td>True</td>\n",
              "      <td>False</td>\n",
              "    </tr>\n",
              "    <tr>\n",
              "      <th>1387</th>\n",
              "      <td>Jumeirah</td>\n",
              "      <td>7695790</td>\n",
              "      <td>25.215192</td>\n",
              "      <td>55.235827</td>\n",
              "      <td>4905000</td>\n",
              "      <td>1574</td>\n",
              "      <td>3116.26</td>\n",
              "      <td>1</td>\n",
              "      <td>1</td>\n",
              "      <td>Medium</td>\n",
              "      <td>...</td>\n",
              "      <td>False</td>\n",
              "      <td>False</td>\n",
              "      <td>True</td>\n",
              "      <td>True</td>\n",
              "      <td>False</td>\n",
              "      <td>False</td>\n",
              "      <td>False</td>\n",
              "      <td>False</td>\n",
              "      <td>True</td>\n",
              "      <td>False</td>\n",
              "    </tr>\n",
              "    <tr>\n",
              "      <th>1388</th>\n",
              "      <td>Jumeirah</td>\n",
              "      <td>7695797</td>\n",
              "      <td>25.215192</td>\n",
              "      <td>55.235827</td>\n",
              "      <td>9209000</td>\n",
              "      <td>2249</td>\n",
              "      <td>4094.71</td>\n",
              "      <td>2</td>\n",
              "      <td>2</td>\n",
              "      <td>Medium</td>\n",
              "      <td>...</td>\n",
              "      <td>False</td>\n",
              "      <td>False</td>\n",
              "      <td>True</td>\n",
              "      <td>True</td>\n",
              "      <td>False</td>\n",
              "      <td>False</td>\n",
              "      <td>False</td>\n",
              "      <td>False</td>\n",
              "      <td>True</td>\n",
              "      <td>False</td>\n",
              "    </tr>\n",
              "    <tr>\n",
              "      <th>1389</th>\n",
              "      <td>Jumeirah</td>\n",
              "      <td>7698774</td>\n",
              "      <td>25.240419</td>\n",
              "      <td>55.252770</td>\n",
              "      <td>2250000</td>\n",
              "      <td>1341</td>\n",
              "      <td>1677.85</td>\n",
              "      <td>2</td>\n",
              "      <td>3</td>\n",
              "      <td>Medium</td>\n",
              "      <td>...</td>\n",
              "      <td>False</td>\n",
              "      <td>False</td>\n",
              "      <td>True</td>\n",
              "      <td>True</td>\n",
              "      <td>False</td>\n",
              "      <td>False</td>\n",
              "      <td>False</td>\n",
              "      <td>False</td>\n",
              "      <td>False</td>\n",
              "      <td>False</td>\n",
              "    </tr>\n",
              "  </tbody>\n",
              "</table>\n",
              "<p>1390 rows × 38 columns</p>\n",
              "</div>\n",
              "    <div class=\"colab-df-buttons\">\n",
              "\n",
              "  <div class=\"colab-df-container\">\n",
              "    <button class=\"colab-df-convert\" onclick=\"convertToInteractive('df-10d7b6dd-eb8a-4633-8db5-1aba2c7573fb')\"\n",
              "            title=\"Convert this dataframe to an interactive table.\"\n",
              "            style=\"display:none;\">\n",
              "\n",
              "  <svg xmlns=\"http://www.w3.org/2000/svg\" height=\"24px\" viewBox=\"0 -960 960 960\">\n",
              "    <path d=\"M120-120v-720h720v720H120Zm60-500h600v-160H180v160Zm220 220h160v-160H400v160Zm0 220h160v-160H400v160ZM180-400h160v-160H180v160Zm440 0h160v-160H620v160ZM180-180h160v-160H180v160Zm440 0h160v-160H620v160Z\"/>\n",
              "  </svg>\n",
              "    </button>\n",
              "\n",
              "  <style>\n",
              "    .colab-df-container {\n",
              "      display:flex;\n",
              "      gap: 12px;\n",
              "    }\n",
              "\n",
              "    .colab-df-convert {\n",
              "      background-color: #E8F0FE;\n",
              "      border: none;\n",
              "      border-radius: 50%;\n",
              "      cursor: pointer;\n",
              "      display: none;\n",
              "      fill: #1967D2;\n",
              "      height: 32px;\n",
              "      padding: 0 0 0 0;\n",
              "      width: 32px;\n",
              "    }\n",
              "\n",
              "    .colab-df-convert:hover {\n",
              "      background-color: #E2EBFA;\n",
              "      box-shadow: 0px 1px 2px rgba(60, 64, 67, 0.3), 0px 1px 3px 1px rgba(60, 64, 67, 0.15);\n",
              "      fill: #174EA6;\n",
              "    }\n",
              "\n",
              "    .colab-df-buttons div {\n",
              "      margin-bottom: 4px;\n",
              "    }\n",
              "\n",
              "    [theme=dark] .colab-df-convert {\n",
              "      background-color: #3B4455;\n",
              "      fill: #D2E3FC;\n",
              "    }\n",
              "\n",
              "    [theme=dark] .colab-df-convert:hover {\n",
              "      background-color: #434B5C;\n",
              "      box-shadow: 0px 1px 3px 1px rgba(0, 0, 0, 0.15);\n",
              "      filter: drop-shadow(0px 1px 2px rgba(0, 0, 0, 0.3));\n",
              "      fill: #FFFFFF;\n",
              "    }\n",
              "  </style>\n",
              "\n",
              "    <script>\n",
              "      const buttonEl =\n",
              "        document.querySelector('#df-10d7b6dd-eb8a-4633-8db5-1aba2c7573fb button.colab-df-convert');\n",
              "      buttonEl.style.display =\n",
              "        google.colab.kernel.accessAllowed ? 'block' : 'none';\n",
              "\n",
              "      async function convertToInteractive(key) {\n",
              "        const element = document.querySelector('#df-10d7b6dd-eb8a-4633-8db5-1aba2c7573fb');\n",
              "        const dataTable =\n",
              "          await google.colab.kernel.invokeFunction('convertToInteractive',\n",
              "                                                    [key], {});\n",
              "        if (!dataTable) return;\n",
              "\n",
              "        const docLinkHtml = 'Like what you see? Visit the ' +\n",
              "          '<a target=\"_blank\" href=https://colab.research.google.com/notebooks/data_table.ipynb>data table notebook</a>'\n",
              "          + ' to learn more about interactive tables.';\n",
              "        element.innerHTML = '';\n",
              "        dataTable['output_type'] = 'display_data';\n",
              "        await google.colab.output.renderOutput(dataTable, element);\n",
              "        const docLink = document.createElement('div');\n",
              "        docLink.innerHTML = docLinkHtml;\n",
              "        element.appendChild(docLink);\n",
              "      }\n",
              "    </script>\n",
              "  </div>\n",
              "\n",
              "\n",
              "<div id=\"df-c4bb2e4b-5d89-4703-8ae1-a379fa4a8476\">\n",
              "  <button class=\"colab-df-quickchart\" onclick=\"quickchart('df-c4bb2e4b-5d89-4703-8ae1-a379fa4a8476')\"\n",
              "            title=\"Suggest charts\"\n",
              "            style=\"display:none;\">\n",
              "\n",
              "<svg xmlns=\"http://www.w3.org/2000/svg\" height=\"24px\"viewBox=\"0 0 24 24\"\n",
              "     width=\"24px\">\n",
              "    <g>\n",
              "        <path d=\"M19 3H5c-1.1 0-2 .9-2 2v14c0 1.1.9 2 2 2h14c1.1 0 2-.9 2-2V5c0-1.1-.9-2-2-2zM9 17H7v-7h2v7zm4 0h-2V7h2v10zm4 0h-2v-4h2v4z\"/>\n",
              "    </g>\n",
              "</svg>\n",
              "  </button>\n",
              "\n",
              "<style>\n",
              "  .colab-df-quickchart {\n",
              "      --bg-color: #E8F0FE;\n",
              "      --fill-color: #1967D2;\n",
              "      --hover-bg-color: #E2EBFA;\n",
              "      --hover-fill-color: #174EA6;\n",
              "      --disabled-fill-color: #AAA;\n",
              "      --disabled-bg-color: #DDD;\n",
              "  }\n",
              "\n",
              "  [theme=dark] .colab-df-quickchart {\n",
              "      --bg-color: #3B4455;\n",
              "      --fill-color: #D2E3FC;\n",
              "      --hover-bg-color: #434B5C;\n",
              "      --hover-fill-color: #FFFFFF;\n",
              "      --disabled-bg-color: #3B4455;\n",
              "      --disabled-fill-color: #666;\n",
              "  }\n",
              "\n",
              "  .colab-df-quickchart {\n",
              "    background-color: var(--bg-color);\n",
              "    border: none;\n",
              "    border-radius: 50%;\n",
              "    cursor: pointer;\n",
              "    display: none;\n",
              "    fill: var(--fill-color);\n",
              "    height: 32px;\n",
              "    padding: 0;\n",
              "    width: 32px;\n",
              "  }\n",
              "\n",
              "  .colab-df-quickchart:hover {\n",
              "    background-color: var(--hover-bg-color);\n",
              "    box-shadow: 0 1px 2px rgba(60, 64, 67, 0.3), 0 1px 3px 1px rgba(60, 64, 67, 0.15);\n",
              "    fill: var(--button-hover-fill-color);\n",
              "  }\n",
              "\n",
              "  .colab-df-quickchart-complete:disabled,\n",
              "  .colab-df-quickchart-complete:disabled:hover {\n",
              "    background-color: var(--disabled-bg-color);\n",
              "    fill: var(--disabled-fill-color);\n",
              "    box-shadow: none;\n",
              "  }\n",
              "\n",
              "  .colab-df-spinner {\n",
              "    border: 2px solid var(--fill-color);\n",
              "    border-color: transparent;\n",
              "    border-bottom-color: var(--fill-color);\n",
              "    animation:\n",
              "      spin 1s steps(1) infinite;\n",
              "  }\n",
              "\n",
              "  @keyframes spin {\n",
              "    0% {\n",
              "      border-color: transparent;\n",
              "      border-bottom-color: var(--fill-color);\n",
              "      border-left-color: var(--fill-color);\n",
              "    }\n",
              "    20% {\n",
              "      border-color: transparent;\n",
              "      border-left-color: var(--fill-color);\n",
              "      border-top-color: var(--fill-color);\n",
              "    }\n",
              "    30% {\n",
              "      border-color: transparent;\n",
              "      border-left-color: var(--fill-color);\n",
              "      border-top-color: var(--fill-color);\n",
              "      border-right-color: var(--fill-color);\n",
              "    }\n",
              "    40% {\n",
              "      border-color: transparent;\n",
              "      border-right-color: var(--fill-color);\n",
              "      border-top-color: var(--fill-color);\n",
              "    }\n",
              "    60% {\n",
              "      border-color: transparent;\n",
              "      border-right-color: var(--fill-color);\n",
              "    }\n",
              "    80% {\n",
              "      border-color: transparent;\n",
              "      border-right-color: var(--fill-color);\n",
              "      border-bottom-color: var(--fill-color);\n",
              "    }\n",
              "    90% {\n",
              "      border-color: transparent;\n",
              "      border-bottom-color: var(--fill-color);\n",
              "    }\n",
              "  }\n",
              "</style>\n",
              "\n",
              "  <script>\n",
              "    async function quickchart(key) {\n",
              "      const quickchartButtonEl =\n",
              "        document.querySelector('#' + key + ' button');\n",
              "      quickchartButtonEl.disabled = true;  // To prevent multiple clicks.\n",
              "      quickchartButtonEl.classList.add('colab-df-spinner');\n",
              "      try {\n",
              "        const charts = await google.colab.kernel.invokeFunction(\n",
              "            'suggestCharts', [key], {});\n",
              "      } catch (error) {\n",
              "        console.error('Error during call to suggestCharts:', error);\n",
              "      }\n",
              "      quickchartButtonEl.classList.remove('colab-df-spinner');\n",
              "      quickchartButtonEl.classList.add('colab-df-quickchart-complete');\n",
              "    }\n",
              "    (() => {\n",
              "      let quickchartButtonEl =\n",
              "        document.querySelector('#df-c4bb2e4b-5d89-4703-8ae1-a379fa4a8476 button');\n",
              "      quickchartButtonEl.style.display =\n",
              "        google.colab.kernel.accessAllowed ? 'block' : 'none';\n",
              "    })();\n",
              "  </script>\n",
              "</div>\n",
              "    </div>\n",
              "  </div>\n"
            ]
          },
          "metadata": {},
          "execution_count": 15
        }
      ]
    },
    {
      "cell_type": "code",
      "source": [
        "plt.figure(figsize = (8, 6))\n",
        "sns.countplot(x = 'neighborhood', hue = 'quality', data = ten_neighborhoods_df, palette = 'husl')\n",
        "plt.title('Quality of Properties in Top 10 Neighborhoods')\n",
        "plt.ylabel('Count')\n",
        "plt.xlabel('Neighborhood')\n",
        "plt.xticks(rotation=90)\n",
        "\n",
        "plt.show()"
      ],
      "metadata": {
        "id": "qWS4tgh-Hsqq",
        "colab": {
          "base_uri": "https://localhost:8080/",
          "height": 734
        },
        "outputId": "2a59ebc5-dddc-408b-9823-83e416417399"
      },
      "execution_count": 16,
      "outputs": [
        {
          "output_type": "display_data",
          "data": {
            "text/plain": [
              "<Figure size 800x600 with 1 Axes>"
            ],
            "image/png": "[encoded data removed]"
          },
          "metadata": {}
        }
      ]
    },
    {
      "cell_type": "markdown",
      "source": [
        "#### (b) 3D Scatterplot"
      ],
      "metadata": {
        "id": "yS7viOKL8Bap"
      }
    },
    {
      "cell_type": "markdown",
      "source": [
        "We want to examine the relationship between three variables: `number_of_bedrooms`, `number_of_bathrooms`, and `price`. We also want to examine `quality` as well.\n",
        "\n"
      ],
      "metadata": {
        "id": "63W2fWFygolZ"
      }
    },
    {
      "cell_type": "code",
      "source": [
        "import matplotlib.pyplot as plt\n",
        "\n",
        "# save the corresponding series from dataframe into lists/containers\n",
        "number_of_bedrooms = df_properties['no_of_bedrooms'].to_list()\n",
        "number_of_bathrooms = df_properties['no_of_bathrooms'].to_list()\n",
        "price = df_properties['price'].to_list()\n",
        "quality = df_properties['quality'].to_list()\n",
        "\n",
        "fig = plt.figure(figsize = (6, 6))\n",
        "ax = fig.add_subplot(projection = '3d')\n",
        "\n",
        "color_dict = {'Low' : 'red', 'Medium' : 'green', 'High' : 'blue', 'Ultra' : 'magenta'}\n",
        "\n",
        "# iterate through and plot datapoints\n",
        "for x_val, y_val, z_val, cat in zip(number_of_bedrooms, number_of_bathrooms, price, quality):\n",
        "    ax.scatter(x_val, y_val, z_val, color=color_dict[cat])\n",
        "\n",
        "ax.set_title('Price vs Number of Bedrooms vs Number of Bathrooms Colored By Quality')\n",
        "ax.set_xlabel('Number of Bedrooms')\n",
        "ax.set_ylabel('Number of Bathtrooms')\n",
        "ax.set_zlabel('Price (in Millions)')\n",
        "\n",
        "for quality, color in color_dict.items():\n",
        "    ax.scatter([], [], [], c=color, marker='o', label=quality)\n",
        "ax.legend(loc='upper left')\n",
        "plt.show()"
      ],
      "metadata": {
        "id": "QyCDKQ2BH09K",
        "colab": {
          "base_uri": "https://localhost:8080/",
          "height": 523
        },
        "outputId": "ec2db5f0-8aba-4e85-fde1-60b058e5cced"
      },
      "execution_count": 86,
      "outputs": [
        {
          "output_type": "display_data",
          "data": {
            "text/plain": [
              "<Figure size 600x600 with 1 Axes>"
            ],
            "image/png": "[encoded data removed]"
          },
          "metadata": {}
        }
      ]
    },
    {
      "cell_type": "markdown",
      "source": [
        "### **1.2.2** Correlation of Feature Variables\n",
        "\n"
      ],
      "metadata": {
        "id": "D_uvTv_VKYfY"
      }
    },
    {
      "cell_type": "markdown",
      "source": [
        "_**Isolating Numerics from Categorical Features**_\n",
        "\n"
      ],
      "metadata": {
        "id": "YacG1jN-_WI6"
      }
    },
    {
      "cell_type": "code",
      "source": [
        "for col in df_properties.columns:\n",
        "  print(col, df_properties[col].nunique(), df_properties[col].dtype)"
      ],
      "metadata": {
        "id": "Qyb8_WIfID3y",
        "colab": {
          "base_uri": "https://localhost:8080/"
        },
        "outputId": "e79f30db-09b4-4506-92d4-da4411c7deb4"
      },
      "execution_count": 18,
      "outputs": [
        {
          "output_type": "stream",
          "name": "stdout",
          "text": [
            "id 1905 int64\n",
            "neighborhood 54 object\n",
            "latitude 723 float64\n",
            "longitude 722 float64\n",
            "price 821 int64\n",
            "size_in_sqft 1121 int64\n",
            "price_per_sqft 1784 float64\n",
            "no_of_bedrooms 6 int64\n",
            "no_of_bathrooms 6 int64\n",
            "quality 4 object\n",
            "maid_room 2 bool\n",
            "unfurnished 2 bool\n",
            "balcony 2 bool\n",
            "barbecue_area 2 bool\n",
            "built_in_wardrobes 2 bool\n",
            "central_ac 2 bool\n",
            "childrens_play_area 2 bool\n",
            "childrens_pool 2 bool\n",
            "concierge 2 bool\n",
            "covered_parking 2 bool\n",
            "kitchen_appliances 2 bool\n",
            "lobby_in_building 2 bool\n",
            "maid_service 2 bool\n",
            "networked 2 bool\n",
            "pets_allowed 2 bool\n",
            "private_garden 2 bool\n",
            "private_gym 2 bool\n",
            "private_jacuzzi 2 bool\n",
            "private_pool 2 bool\n",
            "security 2 bool\n",
            "shared_gym 2 bool\n",
            "shared_pool 2 bool\n",
            "shared_spa 2 bool\n",
            "study 2 bool\n",
            "vastu_compliant 2 bool\n",
            "view_of_landmark 2 bool\n",
            "view_of_water 2 bool\n",
            "walk_in_closet 2 bool\n"
          ]
        }
      ]
    },
    {
      "cell_type": "code",
      "source": [
        "num_df = df_properties[['size_in_sqft', 'price_per_sqft', 'no_of_bedrooms', 'no_of_bathrooms']]\n",
        "cat_df = df_properties.drop(['id', 'latitude', 'longitude', 'quality', 'price', 'size_in_sqft', 'price_per_sqft', 'no_of_bedrooms', 'no_of_bathrooms'], axis = 1)"
      ],
      "metadata": {
        "id": "PZIPC3qoLgag"
      },
      "execution_count": 19,
      "outputs": []
    },
    {
      "cell_type": "code",
      "source": [
        "sorted_columns = list(num_df.columns)\n",
        "sorted_columns.sort()\n",
        "num_df = num_df[sorted_columns]\n",
        "\n",
        "sorted_columns = list(cat_df.columns)\n",
        "sorted_columns.sort()\n",
        "cat_df = cat_df[sorted_columns]"
      ],
      "metadata": {
        "id": "zcnftjDlNyWx"
      },
      "execution_count": 20,
      "outputs": []
    },
    {
      "cell_type": "code",
      "source": [
        "num_df.columns"
      ],
      "metadata": {
        "id": "VU3eQ2viINds",
        "colab": {
          "base_uri": "https://localhost:8080/"
        },
        "outputId": "283d8059-5cba-4cda-a21a-f4e6a33b4f82"
      },
      "execution_count": 21,
      "outputs": [
        {
          "output_type": "execute_result",
          "data": {
            "text/plain": [
              "Index(['no_of_bathrooms', 'no_of_bedrooms', 'price_per_sqft', 'size_in_sqft'], dtype='object')"
            ]
          },
          "metadata": {},
          "execution_count": 21
        }
      ]
    },
    {
      "cell_type": "code",
      "source": [
        "cat_df.columns"
      ],
      "metadata": {
        "id": "0xlFUDPTIOnk",
        "colab": {
          "base_uri": "https://localhost:8080/"
        },
        "outputId": "bcbae245-7464-4256-91f7-74233e3dbcf5"
      },
      "execution_count": 22,
      "outputs": [
        {
          "output_type": "execute_result",
          "data": {
            "text/plain": [
              "Index(['balcony', 'barbecue_area', 'built_in_wardrobes', 'central_ac',\n",
              "       'childrens_play_area', 'childrens_pool', 'concierge', 'covered_parking',\n",
              "       'kitchen_appliances', 'lobby_in_building', 'maid_room', 'maid_service',\n",
              "       'neighborhood', 'networked', 'pets_allowed', 'private_garden',\n",
              "       'private_gym', 'private_jacuzzi', 'private_pool', 'security',\n",
              "       'shared_gym', 'shared_pool', 'shared_spa', 'study', 'unfurnished',\n",
              "       'vastu_compliant', 'view_of_landmark', 'view_of_water',\n",
              "       'walk_in_closet'],\n",
              "      dtype='object')"
            ]
          },
          "metadata": {},
          "execution_count": 22
        }
      ]
    },
    {
      "cell_type": "markdown",
      "metadata": {
        "id": "QRaftmxV-FEV"
      },
      "source": [
        "_**Correlation Heatmap**_\n",
        "\n"
      ]
    },
    {
      "cell_type": "code",
      "source": [
        "corr_matrix = num_df.corr()\n",
        "plt.figure(figsize = (8, 8))\n",
        "sns.heatmap(corr_matrix, annot=True, cmap='RdBu', center = 0, vmin = -1, vmax = 1)\n",
        "plt.title('Correlation Heatmap Between Numeric Features')\n",
        "plt.show()\n",
        "\n"
      ],
      "metadata": {
        "id": "vUf-1zk2IauC",
        "colab": {
          "base_uri": "https://localhost:8080/",
          "height": 699
        },
        "outputId": "800c392c-ced2-4e14-c931-9246b7b7d2f4"
      },
      "execution_count": 23,
      "outputs": [
        {
          "output_type": "display_data",
          "data": {
            "text/plain": [
              "<Figure size 800x800 with 2 Axes>"
            ],
            "image/png": "[encoded data removed]"
          },
          "metadata": {}
        }
      ]
    },
    {
      "cell_type": "markdown",
      "source": [
        "## **1.3** Feature Engineering\n",
        "\n"
      ],
      "metadata": {
        "id": "06OFh_eTNIPI"
      }
    },
    {
      "cell_type": "markdown",
      "source": [
        "### **1.3.1** Cast Boolean Values into Integers"
      ],
      "metadata": {
        "id": "gJ2ptxmkNyG6"
      }
    },
    {
      "cell_type": "code",
      "source": [
        "encoded_df_properties = df_properties.drop(['id', 'latitude', 'longitude', 'neighborhood'], axis = 1)"
      ],
      "metadata": {
        "id": "ttMWoxUPOhqF"
      },
      "execution_count": 24,
      "outputs": []
    },
    {
      "cell_type": "code",
      "source": [
        "for col in encoded_df_properties:\n",
        "  if encoded_df_properties[col].dtype == 'bool':\n",
        "    encoded_df_properties[col] = encoded_df_properties[col].astype(int)"
      ],
      "metadata": {
        "id": "vHkQI4mi1fdu"
      },
      "execution_count": 25,
      "outputs": []
    },
    {
      "cell_type": "code",
      "source": [
        "encoded_df_properties.info()"
      ],
      "metadata": {
        "id": "4UlLkcFtIhKB",
        "colab": {
          "base_uri": "https://localhost:8080/"
        },
        "outputId": "d525f200-f759-4f0c-cc82-93976ae9b673"
      },
      "execution_count": 26,
      "outputs": [
        {
          "output_type": "stream",
          "name": "stdout",
          "text": [
            "<class 'pandas.core.frame.DataFrame'>\n",
            "RangeIndex: 1905 entries, 0 to 1904\n",
            "Data columns (total 34 columns):\n",
            " #   Column               Non-Null Count  Dtype  \n",
            "---  ------               --------------  -----  \n",
            " 0   price                1905 non-null   int64  \n",
            " 1   size_in_sqft         1905 non-null   int64  \n",
            " 2   price_per_sqft       1905 non-null   float64\n",
            " 3   no_of_bedrooms       1905 non-null   int64  \n",
            " 4   no_of_bathrooms      1905 non-null   int64  \n",
            " 5   quality              1905 non-null   object \n",
            " 6   maid_room            1905 non-null   int64  \n",
            " 7   unfurnished          1905 non-null   int64  \n",
            " 8   balcony              1905 non-null   int64  \n",
            " 9   barbecue_area        1905 non-null   int64  \n",
            " 10  built_in_wardrobes   1905 non-null   int64  \n",
            " 11  central_ac           1905 non-null   int64  \n",
            " 12  childrens_play_area  1905 non-null   int64  \n",
            " 13  childrens_pool       1905 non-null   int64  \n",
            " 14  concierge            1905 non-null   int64  \n",
            " 15  covered_parking      1905 non-null   int64  \n",
            " 16  kitchen_appliances   1905 non-null   int64  \n",
            " 17  lobby_in_building    1905 non-null   int64  \n",
            " 18  maid_service         1905 non-null   int64  \n",
            " 19  networked            1905 non-null   int64  \n",
            " 20  pets_allowed         1905 non-null   int64  \n",
            " 21  private_garden       1905 non-null   int64  \n",
            " 22  private_gym          1905 non-null   int64  \n",
            " 23  private_jacuzzi      1905 non-null   int64  \n",
            " 24  private_pool         1905 non-null   int64  \n",
            " 25  security             1905 non-null   int64  \n",
            " 26  shared_gym           1905 non-null   int64  \n",
            " 27  shared_pool          1905 non-null   int64  \n",
            " 28  shared_spa           1905 non-null   int64  \n",
            " 29  study                1905 non-null   int64  \n",
            " 30  vastu_compliant      1905 non-null   int64  \n",
            " 31  view_of_landmark     1905 non-null   int64  \n",
            " 32  view_of_water        1905 non-null   int64  \n",
            " 33  walk_in_closet       1905 non-null   int64  \n",
            "dtypes: float64(1), int64(32), object(1)\n",
            "memory usage: 506.1+ KB\n"
          ]
        }
      ]
    },
    {
      "cell_type": "markdown",
      "source": [
        "### **1.3.2** Encode Classes in 'Quality' Column"
      ],
      "metadata": {
        "id": "4bVkkvxRrWuc"
      }
    },
    {
      "cell_type": "markdown",
      "source": [
        "We will be predicting the `quality` for our classification problem. We first want to transform our target into numerical values:\n",
        "*   Low: 0\n",
        "*   Medium: 1\n",
        "*   High: 2\n",
        "*   Ultra: 3\n",
        "\n"
      ],
      "metadata": {
        "id": "SGMeJ17zsX5v"
      }
    },
    {
      "cell_type": "code",
      "source": [
        "encoded_df_properties['quality'] = encoded_df_properties['quality'].apply(lambda x : 0 if x == 'Low' else (1 if x == 'Medium' else (2 if x == 'High' else 3)))"
      ],
      "metadata": {
        "id": "HuPVCItW4oGe"
      },
      "execution_count": 27,
      "outputs": []
    },
    {
      "cell_type": "code",
      "source": [
        "encoded_df_properties['quality'].unique()"
      ],
      "metadata": {
        "id": "1FXihRrTIm9h",
        "colab": {
          "base_uri": "https://localhost:8080/"
        },
        "outputId": "1d5cb65a-d3e6-48ba-cbcc-6e32b43362fa"
      },
      "execution_count": 28,
      "outputs": [
        {
          "output_type": "execute_result",
          "data": {
            "text/plain": [
              "array([1, 0, 2, 3])"
            ]
          },
          "metadata": {},
          "execution_count": 28
        }
      ]
    },
    {
      "cell_type": "markdown",
      "metadata": {
        "id": "K-iqlFZacKO9"
      },
      "source": [
        "## **1.4** Modeling (sklearn)"
      ]
    },
    {
      "cell_type": "markdown",
      "source": [
        "### **1.4.1** Preprocessing: Create Features and Label and Split Data into Train and Test\n",
        "\n"
      ],
      "metadata": {
        "id": "xPBSUmK9HRHc"
      }
    },
    {
      "cell_type": "code",
      "source": [
        "features = encoded_df_properties.drop('quality', axis = 1)\n",
        "\n",
        "target = encoded_df_properties['quality']"
      ],
      "metadata": {
        "id": "N7_jhB-LEVNK"
      },
      "execution_count": 29,
      "outputs": []
    },
    {
      "cell_type": "code",
      "source": [
        "seed = 42\n",
        "X_train, X_test, y_train, y_test = train_test_split(features, target, test_size = 0.2, random_state = seed)"
      ],
      "metadata": {
        "id": "D48UmEtDEo0g"
      },
      "execution_count": 30,
      "outputs": []
    },
    {
      "cell_type": "markdown",
      "source": [
        "### **1.4.2** Classification Models"
      ],
      "metadata": {
        "id": "IQid9KfyIN2-"
      }
    },
    {
      "cell_type": "markdown",
      "source": [
        "#### (a) Logistic Regression\n"
      ],
      "metadata": {
        "id": "M1Vj9AkIIgpL"
      }
    },
    {
      "cell_type": "code",
      "source": [
        "from sklearn.linear_model import LogisticRegression\n",
        "\n",
        "model = LogisticRegression(penalty = None, multi_class = 'multinomial')\n",
        "model.fit(X_train, y_train)\n",
        "\n",
        "y_pred = model.predict(X_test)\n",
        "\n",
        "log_acc = model.score(X_test, y_test)\n",
        "\n",
        "log_acc"
      ],
      "metadata": {
        "id": "1989P2yhIzfJ",
        "colab": {
          "base_uri": "https://localhost:8080/"
        },
        "outputId": "d001a418-5296-4cc0-b8b1-e65536c25eae"
      },
      "execution_count": 31,
      "outputs": [
        {
          "output_type": "execute_result",
          "data": {
            "text/plain": [
              "0.5931758530183727"
            ]
          },
          "metadata": {},
          "execution_count": 31
        }
      ]
    },
    {
      "cell_type": "markdown",
      "source": [
        "#### (b) Random Forest Classifier\n",
        "\n"
      ],
      "metadata": {
        "id": "wgbNIcEFMch4"
      }
    },
    {
      "cell_type": "code",
      "source": [
        "from sklearn.ensemble import RandomForestClassifier\n",
        "from sklearn.metrics import confusion_matrix\n",
        "\n",
        "model = RandomForestClassifier(class_weight = 'balanced', n_estimators = 120, max_depth = 30, random_state = 42)\n",
        "model.fit(X_train, y_train)\n",
        "\n",
        "y_pred = model.predict(X_test)\n",
        "\n",
        "rf_acc = model.score(X_test, y_test)\n",
        "\n",
        "rf_confusion = confusion_matrix(y_test, y_pred)\n",
        "\n",
        "rf_acc, rf_confusion"
      ],
      "metadata": {
        "id": "89LHKRSNI-A5",
        "colab": {
          "base_uri": "https://localhost:8080/"
        },
        "outputId": "c7e5066c-d770-4ece-fe4c-f449440292c4"
      },
      "execution_count": 32,
      "outputs": [
        {
          "output_type": "execute_result",
          "data": {
            "text/plain": [
              "(0.9212598425196851,\n",
              " array([[ 97,  15,   0,   0],\n",
              "        [  1, 225,   2,   0],\n",
              "        [  0,  12,  17,   0],\n",
              "        [  0,   0,   0,  12]]))"
            ]
          },
          "metadata": {},
          "execution_count": 32
        }
      ]
    },
    {
      "cell_type": "markdown",
      "source": [
        "#### (c) PCA to Reduce Dimensionality\n",
        "\n"
      ],
      "metadata": {
        "id": "lbSul1eKNIVG"
      }
    },
    {
      "cell_type": "markdown",
      "source": [
        "_**Initial PCA**_\n",
        "\n"
      ],
      "metadata": {
        "id": "caGTeWhxNL3K"
      }
    },
    {
      "cell_type": "code",
      "source": [
        "from sklearn.preprocessing import StandardScaler\n",
        "from sklearn.decomposition import PCA\n",
        "\n",
        "scaler = StandardScaler()\n",
        "X_train_scaled = scaler.fit_transform(X_train)\n",
        "X_test_scaled = scaler.transform(X_test)\n",
        "\n",
        "pca = PCA()\n",
        "X2 = pca.fit(X_train_scaled)"
      ],
      "metadata": {
        "id": "PuETOl5gQuNb"
      },
      "execution_count": 33,
      "outputs": []
    },
    {
      "cell_type": "markdown",
      "source": [
        "_**Cumulative Explained Variance Ratios**_\n",
        "\n"
      ],
      "metadata": {
        "id": "oeJnO6EENQQq"
      }
    },
    {
      "cell_type": "code",
      "source": [
        "explained_variance_ratios = pca.explained_variance_ratio_\n",
        "\n",
        "cum_evr = np.cumsum(explained_variance_ratios)"
      ],
      "metadata": {
        "id": "LomThMizJIlR"
      },
      "execution_count": 34,
      "outputs": []
    },
    {
      "cell_type": "code",
      "source": [
        "x_ticks = np.arange(len(cum_evr)) + 1\n",
        "\n",
        "plt.figure(figsize = (8, 3))\n",
        "plt.plot(x_ticks, cum_evr)\n",
        "plt.plot(x_ticks, 0.8 * (np.ones(len(cum_evr))))\n",
        "plt.xlabel('Number of Components')\n",
        "plt.ylabel('Cumulative Explained Variance')\n",
        "plt.title('Cumulative Explained Variance vs. Number of PCA Components')\n",
        "plt.xticks(range(1, len(cum_evr) + 1, 2))\n",
        "plt.show()"
      ],
      "metadata": {
        "id": "c5_hXQIKJST6",
        "colab": {
          "base_uri": "https://localhost:8080/",
          "height": 333
        },
        "outputId": "b0f0856e-8924-4e63-9766-8e4176fc0abf"
      },
      "execution_count": 35,
      "outputs": [
        {
          "output_type": "display_data",
          "data": {
            "text/plain": [
              "<Figure size 800x300 with 1 Axes>"
            ],
            "image/png": "[encoded data removed]"
          },
          "metadata": {}
        }
      ]
    },
    {
      "cell_type": "markdown",
      "source": [
        "_**Final PCA**_\n",
        "\n"
      ],
      "metadata": {
        "id": "PIhrE2ILNmve"
      }
    },
    {
      "cell_type": "code",
      "source": [
        "pca = PCA(n_components = 16)\n",
        "X_train_pca = pca.fit_transform(X_train_scaled)\n",
        "\n",
        "X_test_pca = pca.transform(X_test_scaled)"
      ],
      "metadata": {
        "id": "o3jrh59gGZ0s"
      },
      "execution_count": 36,
      "outputs": []
    },
    {
      "cell_type": "markdown",
      "source": [
        "#### (d) Logistic Regression with PCA\n",
        "\n"
      ],
      "metadata": {
        "id": "TzIlLTj0Nq92"
      }
    },
    {
      "cell_type": "code",
      "source": [
        "log_reg_pca = LogisticRegression(penalty = None, multi_class = 'multinomial')\n",
        "log_reg_pca.fit(X_train_pca, y_train)\n",
        "\n",
        "y_pred = log_reg_pca.predict(X_test_pca)\n",
        "\n",
        "test_accuracy = log_reg_pca.score(X_test_pca, y_test)\n",
        "\n",
        "test_accuracy"
      ],
      "metadata": {
        "id": "sUMXF0YDJ2ci",
        "colab": {
          "base_uri": "https://localhost:8080/"
        },
        "outputId": "6275c86d-fb57-42bd-e0dc-e13875ec3c0f"
      },
      "execution_count": 37,
      "outputs": [
        {
          "output_type": "execute_result",
          "data": {
            "text/plain": [
              "0.9921259842519685"
            ]
          },
          "metadata": {},
          "execution_count": 37
        }
      ]
    },
    {
      "cell_type": "markdown",
      "source": [
        "### **1.4.3.0** Regression: Split Data into Train and Test\n",
        "\n",
        " We will be predicting `price` for regression models.\n",
        "\n"
      ],
      "metadata": {
        "id": "tYGjFnJ8kfaK"
      }
    },
    {
      "cell_type": "code",
      "source": [
        "reg_df_properties = encoded_df_properties[['price', 'size_in_sqft', 'no_of_bedrooms', 'no_of_bathrooms']]"
      ],
      "metadata": {
        "id": "X6uGSdSYbLaO"
      },
      "execution_count": 38,
      "outputs": []
    },
    {
      "cell_type": "code",
      "source": [
        "features = reg_df_properties.drop('price', axis = 1)\n",
        "\n",
        "target = reg_df_properties['price']"
      ],
      "metadata": {
        "id": "5f8a8uTcmTSV"
      },
      "execution_count": 39,
      "outputs": []
    },
    {
      "cell_type": "code",
      "source": [
        "seed = 42\n",
        "X_train, X_test, y_train, y_test = train_test_split(features, target, train_size = 0.8, random_state = seed)"
      ],
      "metadata": {
        "id": "Z5rG25VRkfaL"
      },
      "execution_count": 40,
      "outputs": []
    },
    {
      "cell_type": "markdown",
      "metadata": {
        "id": "NGlb6tnNcKO-"
      },
      "source": [
        "### **1.4.3.1** Regression Models\n",
        "\n"
      ]
    },
    {
      "cell_type": "markdown",
      "source": [
        "#### (a) Linear Regression (Unregularized)\n",
        "\n"
      ],
      "metadata": {
        "id": "GlMOX0ljUk12"
      }
    },
    {
      "cell_type": "code",
      "source": [
        "from sklearn.linear_model import LinearRegression\n",
        "\n",
        "reg = LinearRegression()\n",
        "reg.fit(X_train, y_train)\n",
        "\n",
        "y_pred = reg.predict(X_test)\n",
        "\n",
        "lin_reg_score = reg.score(X_test, y_test)\n",
        "\n",
        "lin_reg_score"
      ],
      "metadata": {
        "id": "6PCTGcGEokY2",
        "colab": {
          "base_uri": "https://localhost:8080/"
        },
        "outputId": "3468fc49-b88b-4452-8aef-8c5272c07b77"
      },
      "execution_count": 48,
      "outputs": [
        {
          "output_type": "execute_result",
          "data": {
            "text/plain": [
              "0.7092097276707039"
            ]
          },
          "metadata": {},
          "execution_count": 48
        }
      ]
    },
    {
      "cell_type": "markdown",
      "metadata": {
        "id": "G7EV4dpDcKO_"
      },
      "source": [
        "#### (b) Lasso Regression\n",
        "\n"
      ]
    },
    {
      "cell_type": "code",
      "source": [
        "scaler = StandardScaler()\n",
        "X_train_scaled = scaler.fit_transform(X_train)\n",
        "X_test_scaled = scaler.transform(X_test)"
      ],
      "metadata": {
        "id": "pUi11tA3zCUe"
      },
      "execution_count": 42,
      "outputs": []
    },
    {
      "cell_type": "code",
      "source": [
        "from sklearn import linear_model\n",
        "\n",
        "reg_lasso = linear_model.Lasso(alpha = 0.5)\n",
        "reg_lasso.fit(X_train_scaled, y_train)\n",
        "\n",
        "y_pred = reg_lasso.predict(X_test_scaled)\n",
        "\n",
        "lasso_score = reg_lasso.score(X_test_scaled, y_test)\n",
        "\n",
        "lasso_score"
      ],
      "metadata": {
        "id": "WOKnu3kiKotN",
        "colab": {
          "base_uri": "https://localhost:8080/"
        },
        "outputId": "e0b18a80-fca4-4854-a0ad-c80f6e828d55"
      },
      "execution_count": 43,
      "outputs": [
        {
          "output_type": "execute_result",
          "data": {
            "text/plain": [
              "0.7092097454167732"
            ]
          },
          "metadata": {},
          "execution_count": 43
        }
      ]
    },
    {
      "cell_type": "markdown",
      "source": [
        "### **1.4.4** K-Means Clustering\n",
        "\n"
      ],
      "metadata": {
        "id": "iX1UkLEjk7U_"
      }
    },
    {
      "cell_type": "markdown",
      "source": [
        "#### (a) Find the best number of clusters with the elbow plot"
      ],
      "metadata": {
        "id": "nTF8RcWHtJf1"
      }
    },
    {
      "cell_type": "code",
      "source": [
        "features = encoded_df_properties.drop('quality', axis = 1)"
      ],
      "metadata": {
        "id": "XXEC7Ab9k_4W"
      },
      "execution_count": 44,
      "outputs": []
    },
    {
      "cell_type": "code",
      "source": [
        "\n",
        "from sklearn.cluster import KMeans\n",
        "\n",
        "wcss = []\n",
        "seed = 0\n",
        "for k in range(2, 11):\n",
        "  kmeans = KMeans(n_clusters = k, random_state = seed, n_init = 5)\n",
        "  kmeans.fit(features)\n",
        "  wcss.append(kmeans.inertia_)\n",
        "\n",
        "sns.lineplot(x = [2, 3, 4, 5, 6, 7, 8, 9, 10], y = wcss)\n",
        "plt.xlabel('Number of Clusters')\n",
        "plt.ylabel('Distortion (WCSS)')\n",
        "plt.title('Elbow Plot')\n",
        "plt.show()"
      ],
      "metadata": {
        "id": "ryEmlfE9KvW6",
        "colab": {
          "base_uri": "https://localhost:8080/",
          "height": 472
        },
        "outputId": "8936f7bf-ecc9-4556-c225-990181ba7ca4"
      },
      "execution_count": 45,
      "outputs": [
        {
          "output_type": "display_data",
          "data": {
            "text/plain": [
              "<Figure size 640x480 with 1 Axes>"
            ],
            "image/png": "[encoded data removed]"
          },
          "metadata": {}
        }
      ]
    },
    {
      "cell_type": "code",
      "source": [
        "number_of_clusters = 5"
      ],
      "metadata": {
        "id": "DMZqEOq7rW95"
      },
      "execution_count": 46,
      "outputs": []
    },
    {
      "cell_type": "markdown",
      "source": [
        "#### (b) Re-fit with the best number of clusters"
      ],
      "metadata": {
        "id": "EQLHFhzds7BC"
      }
    },
    {
      "cell_type": "code",
      "source": [
        "kmeans = KMeans(n_clusters = number_of_clusters, random_state = seed, n_init = 5)\n",
        "kmeans.fit(features)"
      ],
      "metadata": {
        "id": "2EKE2fOEK0Gq",
        "colab": {
          "base_uri": "https://localhost:8080/",
          "height": 75
        },
        "outputId": "cddfaf6a-3774-44d9-e36d-879fa5934d13"
      },
      "execution_count": 47,
      "outputs": [
        {
          "output_type": "execute_result",
          "data": {
            "text/plain": [
              "KMeans(n_clusters=5, n_init=5, random_state=0)"
            ],
            "text/html": [
              "<style>#sk-container-id-1 {color: black;background-color: white;}#sk-container-id-1 pre{padding: 0;}#sk-container-id-1 div.sk-toggleable {background-color: white;}#sk-container-id-1 label.sk-toggleable__label {cursor: pointer;display: block;width: 100%;margin-bottom: 0;padding: 0.3em;box-sizing: border-box;text-align: center;}#sk-container-id-1 label.sk-toggleable__label-arrow:before {content: \"▸\";float: left;margin-right: 0.25em;color: #696969;}#sk-container-id-1 label.sk-toggleable__label-arrow:hover:before {color: black;}#sk-container-id-1 div.sk-estimator:hover label.sk-toggleable__label-arrow:before {color: black;}#sk-container-id-1 div.sk-toggleable__content {max-height: 0;max-width: 0;overflow: hidden;text-align: left;background-color: #f0f8ff;}#sk-container-id-1 div.sk-toggleable__content pre {margin: 0.2em;color: black;border-radius: 0.25em;background-color: #f0f8ff;}#sk-container-id-1 input.sk-toggleable__control:checked~div.sk-toggleable__content {max-height: 200px;max-width: 100%;overflow: auto;}#sk-container-id-1 input.sk-toggleable__control:checked~label.sk-toggleable__label-arrow:before {content: \"▾\";}#sk-container-id-1 div.sk-estimator input.sk-toggleable__control:checked~label.sk-toggleable__label {background-color: #d4ebff;}#sk-container-id-1 div.sk-label input.sk-toggleable__control:checked~label.sk-toggleable__label {background-color: #d4ebff;}#sk-container-id-1 input.sk-hidden--visually {border: 0;clip: rect(1px 1px 1px 1px);clip: rect(1px, 1px, 1px, 1px);height: 1px;margin: -1px;overflow: hidden;padding: 0;position: absolute;width: 1px;}#sk-container-id-1 div.sk-estimator {font-family: monospace;background-color: #f0f8ff;border: 1px dotted black;border-radius: 0.25em;box-sizing: border-box;margin-bottom: 0.5em;}#sk-container-id-1 div.sk-estimator:hover {background-color: #d4ebff;}#sk-container-id-1 div.sk-parallel-item::after {content: \"\";width: 100%;border-bottom: 1px solid gray;flex-grow: 1;}#sk-container-id-1 div.sk-label:hover label.sk-toggleable__label {background-color: #d4ebff;}#sk-container-id-1 div.sk-serial::before {content: \"\";position: absolute;border-left: 1px solid gray;box-sizing: border-box;top: 0;bottom: 0;left: 50%;z-index: 0;}#sk-container-id-1 div.sk-serial {display: flex;flex-direction: column;align-items: center;background-color: white;padding-right: 0.2em;padding-left: 0.2em;position: relative;}#sk-container-id-1 div.sk-item {position: relative;z-index: 1;}#sk-container-id-1 div.sk-parallel {display: flex;align-items: stretch;justify-content: center;background-color: white;position: relative;}#sk-container-id-1 div.sk-item::before, #sk-container-id-1 div.sk-parallel-item::before {content: \"\";position: absolute;border-left: 1px solid gray;box-sizing: border-box;top: 0;bottom: 0;left: 50%;z-index: -1;}#sk-container-id-1 div.sk-parallel-item {display: flex;flex-direction: column;z-index: 1;position: relative;background-color: white;}#sk-container-id-1 div.sk-parallel-item:first-child::after {align-self: flex-end;width: 50%;}#sk-container-id-1 div.sk-parallel-item:last-child::after {align-self: flex-start;width: 50%;}#sk-container-id-1 div.sk-parallel-item:only-child::after {width: 0;}#sk-container-id-1 div.sk-dashed-wrapped {border: 1px dashed gray;margin: 0 0.4em 0.5em 0.4em;box-sizing: border-box;padding-bottom: 0.4em;background-color: white;}#sk-container-id-1 div.sk-label label {font-family: monospace;font-weight: bold;display: inline-block;line-height: 1.2em;}#sk-container-id-1 div.sk-label-container {text-align: center;}#sk-container-id-1 div.sk-container {/* jupyter's `normalize.less` sets `[hidden] { display: none; }` but bootstrap.min.css set `[hidden] { display: none !important; }` so we also need the `!important` here to be able to override the default hidden behavior on the sphinx rendered scikit-learn.org. See: https://github.com/scikit-learn/scikit-learn/issues/21755 */display: inline-block !important;position: relative;}#sk-container-id-1 div.sk-text-repr-fallback {display: none;}</style><div id=\"sk-container-id-1\" class=\"sk-top-container\"><div class=\"sk-text-repr-fallback\"><pre>KMeans(n_clusters=5, n_init=5, random_state=0)</pre><b>In a Jupyter environment, please rerun this cell to show the HTML representation or trust the notebook. <br />On GitHub, the HTML representation is unable to render, please try loading this page with nbviewer.org.</b></div><div class=\"sk-container\" hidden><div class=\"sk-item\"><div class=\"sk-estimator sk-toggleable\"><input class=\"sk-toggleable__control sk-hidden--visually\" id=\"sk-estimator-id-1\" type=\"checkbox\" checked><label for=\"sk-estimator-id-1\" class=\"sk-toggleable__label sk-toggleable__label-arrow\">KMeans</label><div class=\"sk-toggleable__content\"><pre>KMeans(n_clusters=5, n_init=5, random_state=0)</pre></div></div></div></div></div>"
            ]
          },
          "metadata": {},
          "execution_count": 47
        }
      ]
    },
    {
      "cell_type": "markdown",
      "metadata": {
        "id": "nyURjOkMcKPD"
      },
      "source": [
        "# **Part II:** Distributed Machine Learning with Apache Spark\n",
        "\n"
      ]
    },
    {
      "cell_type": "code",
      "source": [
        "%%capture\n",
        "\n",
        "!apt install libkrb5-dev\n",
        "!wget https://downloads.apache.org/spark/spark-3.1.2/spark-3.1.2-bin-hadoop3.2.tgz\n",
        "!tar xf spark-3.1.2-bin-hadoop3.2.tgz\n",
        "!pip install findspark\n",
        "!pip install sparkmagic\n",
        "!pip install pyspark\n",
        "! pip install pyspark --user\n",
        "! pip install seaborn --user\n",
        "! pip install plotly --user\n",
        "! pip install imageio --user\n",
        "! pip install folium --user"
      ],
      "metadata": {
        "id": "9Eo8fwt8OcMa"
      },
      "execution_count": 49,
      "outputs": []
    },
    {
      "cell_type": "code",
      "source": [
        "import pyspark\n",
        "from pyspark.sql import SQLContext\n",
        "from pyspark.sql import SparkSession\n",
        "from pyspark.sql.types import *\n",
        "import pyspark.sql.functions as F\n",
        "\n",
        "spark = SparkSession.builder.appName('bigdata-hw4').getOrCreate()\n",
        "sqlContext = SQLContext(spark)"
      ],
      "metadata": {
        "colab": {
          "base_uri": "https://localhost:8080/"
        },
        "id": "lwqTpkc3Ogz3",
        "outputId": "93e3d868-9fd0-4235-9e8e-775610b6d02f"
      },
      "execution_count": 50,
      "outputs": [
        {
          "output_type": "stream",
          "name": "stderr",
          "text": [
            "/usr/local/lib/python3.10/dist-packages/pyspark/sql/context.py:113: FutureWarning: Deprecated in 3.0.0. Use SparkSession.builder.getOrCreate() instead.\n",
            "  warnings.warn(\n"
          ]
        }
      ]
    },
    {
      "cell_type": "code",
      "source": [
        "%load_ext sparkmagic.magics"
      ],
      "metadata": {
        "id": "WAjmBWz7Oqs0"
      },
      "execution_count": 51,
      "outputs": []
    },
    {
      "cell_type": "code",
      "source": [
        "# Graph section\n",
        "import networkx as nx\n",
        "\n",
        "# SQLite RDBMS\n",
        "import sqlite3\n",
        "\n",
        "import os\n",
        "os.environ['SPARK_HOME'] = '/content/spark-3.1.2-bin-hadoop3.2'\n",
        "os.environ[\"JAVA_HOME\"] = \"/usr/lib/jvm/java-8-openjdk-amd64\""
      ],
      "metadata": {
        "id": "TfQ72cpUOr3l"
      },
      "execution_count": 52,
      "outputs": []
    },
    {
      "cell_type": "markdown",
      "source": [
        "## **2.1** Initializing Spark Data\n",
        "\n"
      ],
      "metadata": {
        "id": "6F4x_ia7RGyp"
      }
    },
    {
      "cell_type": "markdown",
      "source": [
        "### **2.1.0** Converting the Pandas Dataframe into a Spark Dataframe\n"
      ],
      "metadata": {
        "id": "WYTG07Kq4E82"
      }
    },
    {
      "cell_type": "code",
      "source": [
        "properties_sdf = spark.createDataFrame(encoded_df_properties)"
      ],
      "metadata": {
        "id": "UQtC3kw7rf1V"
      },
      "execution_count": 53,
      "outputs": []
    },
    {
      "cell_type": "code",
      "source": [
        "from pyspark.sql.functions import col\n",
        "properties_sdf = properties_sdf.withColumn(\"quality\", col(\"quality\").cast(DoubleType()))\n",
        "properties_sdf.show()"
      ],
      "metadata": {
        "id": "xL5S9baj1gLn",
        "colab": {
          "base_uri": "https://localhost:8080/"
        },
        "outputId": "f74ddfe0-5a14-4811-e5d4-30c69c9cb8ec"
      },
      "execution_count": 54,
      "outputs": [
        {
          "output_type": "stream",
          "name": "stdout",
          "text": [
            "+-------+------------+--------------+--------------+---------------+-------+---------+-----------+-------+-------------+------------------+----------+-------------------+--------------+---------+---------------+------------------+-----------------+------------+---------+------------+--------------+-----------+---------------+------------+--------+----------+-----------+----------+-----+---------------+----------------+-------------+--------------+\n",
            "|  price|size_in_sqft|price_per_sqft|no_of_bedrooms|no_of_bathrooms|quality|maid_room|unfurnished|balcony|barbecue_area|built_in_wardrobes|central_ac|childrens_play_area|childrens_pool|concierge|covered_parking|kitchen_appliances|lobby_in_building|maid_service|networked|pets_allowed|private_garden|private_gym|private_jacuzzi|private_pool|security|shared_gym|shared_pool|shared_spa|study|vastu_compliant|view_of_landmark|view_of_water|walk_in_closet|\n",
            "+-------+------------+--------------+--------------+---------------+-------+---------+-----------+-------+-------------+------------------+----------+-------------------+--------------+---------+---------------+------------------+-----------------+------------+---------+------------+--------------+-----------+---------------+------------+--------+----------+-----------+----------+-----+---------------+----------------+-------------+--------------+\n",
            "|2700000|        1079|       2502.32|             1|              2|    1.0|        0|          0|      1|            1|                 0|         1|                  1|             0|        1|              0|                 1|                0|           0|        0|           1|             0|          0|              0|           0|       0|         1|          0|         0|    0|              0|               0|            1|             0|\n",
            "|2850000|        1582|       1801.52|             2|              2|    1.0|        0|          0|      1|            0|                 1|         1|                  1|             0|        0|              0|                 0|                0|           0|        0|           0|             0|          0|              0|           0|       0|         1|          1|         0|    0|              0|               0|            1|             0|\n",
            "|1150000|        1951|        589.44|             3|              5|    1.0|        1|          1|      1|            0|                 1|         0|                  0|             0|        0|              1|                 0|                0|           0|        0|           0|             0|          0|              1|           0|       1|         1|          1|         0|    0|              0|               1|            1|             1|\n",
            "|2850000|        2020|       1410.89|             2|              3|    0.0|        0|          1|      1|            0|                 0|         0|                  0|             0|        1|              1|                 0|                0|           0|        0|           1|             0|          0|              0|           0|       0|         0|          0|         0|    0|              0|               0|            0|             0|\n",
            "|1729200|         507|       3410.65|             0|              1|    1.0|        0|          0|      0|            0|                 1|         1|                  0|             0|        0|              1|                 1|                0|           0|        1|           0|             0|          0|              0|           0|       1|         1|          1|         1|    0|              0|               1|            1|             0|\n",
            "|3119900|        1015|       3073.79|             1|              2|    1.0|        0|          0|      0|            0|                 1|         1|                  0|             0|        0|              1|                 1|                0|           0|        1|           0|             0|          0|              0|           0|       1|         1|          1|         1|    0|              0|               1|            1|             0|\n",
            "|8503600|        2062|       4123.96|             2|              3|    2.0|        1|          0|      0|            0|                 1|         1|                  0|             0|        0|              1|                 1|                0|           0|        1|           0|             0|          0|              0|           0|       1|         1|          1|         1|    0|              0|               1|            1|             1|\n",
            "|3119900|        1015|       3073.79|             1|              2|    1.0|        0|          0|      0|            0|                 1|         1|                  0|             0|        0|              1|                 1|                0|           0|        1|           0|             0|          0|              0|           0|       1|         1|          1|         1|    0|              0|               1|            1|             0|\n",
            "|2100000|        2186|        960.66|             3|              3|    0.0|        0|          0|      0|            0|                 0|         0|                  0|             0|        0|              0|                 0|                0|           0|        0|           0|             0|          0|              0|           0|       0|         0|          0|         0|    0|              0|               0|            0|             0|\n",
            "|2690000|        1521|       1768.57|             2|              3|    1.0|        0|          0|      1|            0|                 1|         1|                  0|             0|        0|              1|                 1|                0|           0|        0|           0|             0|          0|              0|           0|       0|         1|          1|         0|    0|              0|               0|            1|             0|\n",
            "|3550000|        1918|       1850.89|             3|              4|    0.0|        0|          1|      1|            0|                 0|         1|                  0|             0|        0|              0|                 1|                0|           0|        0|           0|             0|          0|              0|           0|       0|         0|          1|         0|    0|              0|               0|            1|             0|\n",
            "|2094999|        1058|       1980.15|             2|              3|    0.0|        0|          1|      1|            0|                 1|         1|                  0|             0|        0|              0|                 0|                0|           0|        0|           0|             0|          0|              0|           0|       0|         1|          1|         0|    0|              0|               0|            0|             0|\n",
            "|1049999|         609|       1724.14|             1|              2|    0.0|        0|          1|      0|            0|                 1|         1|                  0|             0|        0|              0|                 1|                0|           0|        0|           0|             0|          0|              0|           0|       0|         1|          1|         0|    0|              0|               0|            0|             0|\n",
            "|1849000|        1071|       1726.42|             1|              1|    1.0|        0|          1|      1|            1|                 1|         1|                  0|             0|        1|              0|                 0|                0|           0|        0|           0|             0|          0|              0|           0|       0|         1|          1|         0|    0|              0|               0|            1|             0|\n",
            "|2089999|        1051|       1988.58|             1|              1|    1.0|        0|          1|      1|            1|                 1|         1|                  0|             0|        1|              0|                 0|                0|           0|        0|           0|             0|          0|              0|           0|       0|         1|          1|         0|    0|              0|               0|            1|             0|\n",
            "|2349990|        1109|       2119.02|             1|              1|    1.0|        0|          0|      1|            1|                 1|         1|                  0|             0|        1|              0|                 0|                0|           0|        0|           0|             0|          0|              0|           0|       0|         1|          1|         0|    0|              0|               0|            1|             0|\n",
            "|3499000|        1633|       2142.68|             2|              2|    1.0|        0|          1|      1|            1|                 1|         1|                  0|             0|        1|              0|                 0|                0|           0|        0|           0|             0|          0|              0|           0|       0|         1|          1|         0|    0|              0|               0|            1|             0|\n",
            "|2700000|        1348|       2002.97|             2|              3|    1.0|        0|          1|      1|            0|                 1|         1|                  0|             0|        0|              1|                 1|                0|           0|        0|           0|             0|          0|              0|           0|       0|         0|          0|         0|    0|              0|               0|            1|             0|\n",
            "|1490000|        1167|       1276.78|             2|              2|    1.0|        0|          0|      1|            1|                 1|         1|                  0|             0|        0|              0|                 0|                0|           0|        0|           0|             0|          0|              0|           0|       0|         1|          1|         0|    0|              0|               0|            0|             0|\n",
            "| 950000|         894|       1062.64|             1|              2|    1.0|        0|          1|      1|            0|                 1|         1|                  0|             0|        0|              1|                 0|                0|           0|        0|           0|             0|          0|              0|           1|       1|         1|          1|         1|    0|              0|               1|            1|             0|\n",
            "+-------+------------+--------------+--------------+---------------+-------+---------+-----------+-------+-------------+------------------+----------+-------------------+--------------+---------+---------------+------------------+-----------------+------------+---------+------------+--------------+-----------+---------------+------------+--------+----------+-----------+----------+-----+---------------+----------------+-------------+--------------+\n",
            "only showing top 20 rows\n",
            "\n"
          ]
        }
      ]
    },
    {
      "cell_type": "code",
      "source": [
        "properties_sdf.printSchema()"
      ],
      "metadata": {
        "id": "NKzFimSKK_Qp",
        "colab": {
          "base_uri": "https://localhost:8080/"
        },
        "outputId": "02e319df-eb57-48dc-c284-175e2e8a3351"
      },
      "execution_count": 55,
      "outputs": [
        {
          "output_type": "stream",
          "name": "stdout",
          "text": [
            "root\n",
            " |-- price: long (nullable = true)\n",
            " |-- size_in_sqft: long (nullable = true)\n",
            " |-- price_per_sqft: double (nullable = true)\n",
            " |-- no_of_bedrooms: long (nullable = true)\n",
            " |-- no_of_bathrooms: long (nullable = true)\n",
            " |-- quality: double (nullable = true)\n",
            " |-- maid_room: long (nullable = true)\n",
            " |-- unfurnished: long (nullable = true)\n",
            " |-- balcony: long (nullable = true)\n",
            " |-- barbecue_area: long (nullable = true)\n",
            " |-- built_in_wardrobes: long (nullable = true)\n",
            " |-- central_ac: long (nullable = true)\n",
            " |-- childrens_play_area: long (nullable = true)\n",
            " |-- childrens_pool: long (nullable = true)\n",
            " |-- concierge: long (nullable = true)\n",
            " |-- covered_parking: long (nullable = true)\n",
            " |-- kitchen_appliances: long (nullable = true)\n",
            " |-- lobby_in_building: long (nullable = true)\n",
            " |-- maid_service: long (nullable = true)\n",
            " |-- networked: long (nullable = true)\n",
            " |-- pets_allowed: long (nullable = true)\n",
            " |-- private_garden: long (nullable = true)\n",
            " |-- private_gym: long (nullable = true)\n",
            " |-- private_jacuzzi: long (nullable = true)\n",
            " |-- private_pool: long (nullable = true)\n",
            " |-- security: long (nullable = true)\n",
            " |-- shared_gym: long (nullable = true)\n",
            " |-- shared_pool: long (nullable = true)\n",
            " |-- shared_spa: long (nullable = true)\n",
            " |-- study: long (nullable = true)\n",
            " |-- vastu_compliant: long (nullable = true)\n",
            " |-- view_of_landmark: long (nullable = true)\n",
            " |-- view_of_water: long (nullable = true)\n",
            " |-- walk_in_closet: long (nullable = true)\n",
            "\n"
          ]
        }
      ]
    },
    {
      "cell_type": "markdown",
      "source": [
        "### **2.1.1** Setting Up a VectorAssembler\n",
        "\n"
      ],
      "metadata": {
        "id": "X3WUlDEv46rH"
      }
    },
    {
      "cell_type": "code",
      "source": [
        "all_columns = properties_sdf.columns\n",
        "print(all_columns)"
      ],
      "metadata": {
        "id": "yFoJ18QJLA9p",
        "colab": {
          "base_uri": "https://localhost:8080/"
        },
        "outputId": "42b32309-c573-48e9-dc52-47769cc25aee"
      },
      "execution_count": 56,
      "outputs": [
        {
          "output_type": "stream",
          "name": "stdout",
          "text": [
            "['price', 'size_in_sqft', 'price_per_sqft', 'no_of_bedrooms', 'no_of_bathrooms', 'quality', 'maid_room', 'unfurnished', 'balcony', 'barbecue_area', 'built_in_wardrobes', 'central_ac', 'childrens_play_area', 'childrens_pool', 'concierge', 'covered_parking', 'kitchen_appliances', 'lobby_in_building', 'maid_service', 'networked', 'pets_allowed', 'private_garden', 'private_gym', 'private_jacuzzi', 'private_pool', 'security', 'shared_gym', 'shared_pool', 'shared_spa', 'study', 'vastu_compliant', 'view_of_landmark', 'view_of_water', 'walk_in_closet']\n"
          ]
        }
      ]
    },
    {
      "cell_type": "code",
      "source": [
        "drop_columns = ['quality']"
      ],
      "metadata": {
        "id": "tbcp9QqH5_l0"
      },
      "execution_count": 57,
      "outputs": []
    },
    {
      "cell_type": "code",
      "source": [
        "feature_columns = [x for x in all_columns if x not in drop_columns]\n",
        "print(feature_columns)"
      ],
      "metadata": {
        "id": "FGC2k4RXMVj6",
        "colab": {
          "base_uri": "https://localhost:8080/"
        },
        "outputId": "b0b5798f-e2e3-4b82-c88f-59046ff9f8d2"
      },
      "execution_count": 58,
      "outputs": [
        {
          "output_type": "stream",
          "name": "stdout",
          "text": [
            "['price', 'size_in_sqft', 'price_per_sqft', 'no_of_bedrooms', 'no_of_bathrooms', 'maid_room', 'unfurnished', 'balcony', 'barbecue_area', 'built_in_wardrobes', 'central_ac', 'childrens_play_area', 'childrens_pool', 'concierge', 'covered_parking', 'kitchen_appliances', 'lobby_in_building', 'maid_service', 'networked', 'pets_allowed', 'private_garden', 'private_gym', 'private_jacuzzi', 'private_pool', 'security', 'shared_gym', 'shared_pool', 'shared_spa', 'study', 'vastu_compliant', 'view_of_landmark', 'view_of_water', 'walk_in_closet']\n"
          ]
        }
      ]
    },
    {
      "cell_type": "code",
      "source": [
        "from pyspark.ml.feature import VectorAssembler\n",
        "assembler = VectorAssembler(inputCols = feature_columns, outputCol = \"features\")"
      ],
      "metadata": {
        "id": "WmAZT38o7zxM"
      },
      "execution_count": 59,
      "outputs": []
    },
    {
      "cell_type": "markdown",
      "source": [
        "## **2.2** Preprocessing: Pipeline and Train-Test Split\n",
        "\n"
      ],
      "metadata": {
        "id": "WYgt35u-68XA"
      }
    },
    {
      "cell_type": "code",
      "source": [
        "from pyspark.ml import Pipeline\n",
        "\n",
        "pipeline = Pipeline(stages = [assembler])\n",
        "\n",
        "pipeline_model = pipeline.fit(properties_sdf)\n",
        "processed_properties_sdf = pipeline_model.transform(properties_sdf)"
      ],
      "metadata": {
        "id": "PozlPEwbMw9l"
      },
      "execution_count": 60,
      "outputs": []
    },
    {
      "cell_type": "code",
      "source": [
        "random_seed = 42\n",
        "\n",
        "train_sdf, test_sdf = processed_properties_sdf.randomSplit([0.8, 0.2], seed = random_seed)"
      ],
      "metadata": {
        "id": "CXym9xONNrzB"
      },
      "execution_count": 61,
      "outputs": []
    },
    {
      "cell_type": "markdown",
      "source": [
        "## **2.3** Modelling (SparkML)\n",
        "\n"
      ],
      "metadata": {
        "id": "ZlAv_PlBcYDr"
      }
    },
    {
      "cell_type": "markdown",
      "source": [
        "### **2.3.1** Vanilla Logistic Regression\n",
        "\n"
      ],
      "metadata": {
        "id": "0s65E3utg0Zo"
      }
    },
    {
      "cell_type": "code",
      "source": [
        "from pyspark.ml.classification import LogisticRegression\n",
        "\n",
        "lr = LogisticRegression(maxIter = 5, family = 'multinomial', labelCol = 'quality')\n",
        "lr_model = lr.fit(train_sdf)"
      ],
      "metadata": {
        "id": "IktoDMkWhn9p"
      },
      "execution_count": 62,
      "outputs": []
    },
    {
      "cell_type": "code",
      "source": [
        "train_accuracy = lr_model.summary.accuracy"
      ],
      "metadata": {
        "id": "XjyYCYw6i1sD"
      },
      "execution_count": 63,
      "outputs": []
    },
    {
      "cell_type": "code",
      "source": [
        "train_accuracy"
      ],
      "metadata": {
        "id": "YDKeHAJ6LY2h",
        "colab": {
          "base_uri": "https://localhost:8080/"
        },
        "outputId": "bace058f-01c2-49ba-da01-44c3630d8cf5"
      },
      "execution_count": 64,
      "outputs": [
        {
          "output_type": "execute_result",
          "data": {
            "text/plain": [
              "0.9406130268199234"
            ]
          },
          "metadata": {},
          "execution_count": 64
        }
      ]
    },
    {
      "cell_type": "code",
      "source": [
        "predictions = lr_model.transform(test_sdf)"
      ],
      "metadata": {
        "id": "szq8zQ3QjPWp"
      },
      "execution_count": 65,
      "outputs": []
    },
    {
      "cell_type": "code",
      "source": [
        "predictions"
      ],
      "metadata": {
        "colab": {
          "base_uri": "https://localhost:8080/"
        },
        "id": "1qIr6V6aT_bn",
        "outputId": "69cb7473-5c0c-4089-bca1-272331fc94c0"
      },
      "execution_count": 66,
      "outputs": [
        {
          "output_type": "execute_result",
          "data": {
            "text/plain": [
              "DataFrame[price: bigint, size_in_sqft: bigint, price_per_sqft: double, no_of_bedrooms: bigint, no_of_bathrooms: bigint, quality: double, maid_room: bigint, unfurnished: bigint, balcony: bigint, barbecue_area: bigint, built_in_wardrobes: bigint, central_ac: bigint, childrens_play_area: bigint, childrens_pool: bigint, concierge: bigint, covered_parking: bigint, kitchen_appliances: bigint, lobby_in_building: bigint, maid_service: bigint, networked: bigint, pets_allowed: bigint, private_garden: bigint, private_gym: bigint, private_jacuzzi: bigint, private_pool: bigint, security: bigint, shared_gym: bigint, shared_pool: bigint, shared_spa: bigint, study: bigint, vastu_compliant: bigint, view_of_landmark: bigint, view_of_water: bigint, walk_in_closet: bigint, features: vector, rawPrediction: vector, probability: vector, prediction: double]"
            ]
          },
          "metadata": {},
          "execution_count": 66
        }
      ]
    },
    {
      "cell_type": "code",
      "source": [
        "from pyspark.mllib.evaluation import MulticlassMetrics\n",
        "\n",
        "columns = predictions.select('quality', 'prediction').rdd\n",
        "\n",
        "metrics = MulticlassMetrics(columns)\n",
        "\n",
        "confusion_matrix = metrics.confusionMatrix().toArray()\n",
        "confusion_matrix"
      ],
      "metadata": {
        "id": "hudav4vrLkoR",
        "colab": {
          "base_uri": "https://localhost:8080/"
        },
        "outputId": "b77957a0-24e5-42e1-a0f8-582f01b5103b"
      },
      "execution_count": 68,
      "outputs": [
        {
          "output_type": "stream",
          "name": "stderr",
          "text": [
            "/usr/local/lib/python3.10/dist-packages/pyspark/sql/context.py:158: FutureWarning: Deprecated in 3.0.0. Use SparkSession.builder.getOrCreate() instead.\n",
            "  warnings.warn(\n"
          ]
        },
        {
          "output_type": "execute_result",
          "data": {
            "text/plain": [
              "array([[ 78.,   9.,   0.,   0.],\n",
              "       [  6., 202.,   4.,   0.],\n",
              "       [  0.,  11.,  18.,   1.],\n",
              "       [  0.,   1.,   1.,   8.]])"
            ]
          },
          "metadata": {},
          "execution_count": 68
        }
      ]
    },
    {
      "cell_type": "markdown",
      "source": [
        "Now, calculate the test accuracy using the Confusion Matrix obtained above and store it in a variable called `test_accuracy`."
      ],
      "metadata": {
        "id": "xWDnRN0upGh1"
      }
    },
    {
      "cell_type": "code",
      "source": [
        "total = confusion_matrix.sum()\n",
        "correct = confusion_matrix.trace()\n",
        "test_accuracy = correct/total\n",
        "test_accuracy"
      ],
      "metadata": {
        "id": "zAFs87WsLnYJ",
        "colab": {
          "base_uri": "https://localhost:8080/"
        },
        "outputId": "dff1c3d0-8577-44e9-ec49-9e8f6d6cb9c8"
      },
      "execution_count": 69,
      "outputs": [
        {
          "output_type": "execute_result",
          "data": {
            "text/plain": [
              "0.9026548672566371"
            ]
          },
          "metadata": {},
          "execution_count": 69
        }
      ]
    },
    {
      "cell_type": "markdown",
      "source": [
        "### **2.3.2** Regularized Logistic Regression\n",
        "\n",
        "Now, we will add regularization – LASSO (L1), Ridge (L2) and elastic net (combination of L1 and L2), to avoid overfitting."
      ],
      "metadata": {
        "id": "zu_wBe65VrW9"
      }
    },
    {
      "cell_type": "markdown",
      "source": [
        "#### (a) LASSO (L1)\n",
        "\n"
      ],
      "metadata": {
        "id": "fSEYNPEPYBJk"
      }
    },
    {
      "cell_type": "code",
      "source": [
        "l1_model = LogisticRegression(maxIter = 5, family = 'multinomial', labelCol = 'quality', elasticNetParam = 1, regParam = 0.03)\n",
        "\n",
        "l1_model_fit = l1_model.fit(train_sdf)\n",
        "l1_predictions = l1_model_fit.transform(test_sdf)\n",
        "\n",
        "l1_train_accuracy = l1_model_fit.summary.accuracy\n",
        "\n",
        "l1_train_accuracy"
      ],
      "metadata": {
        "id": "MfTbTlY3Lq5h",
        "colab": {
          "base_uri": "https://localhost:8080/"
        },
        "outputId": "7bcb8602-b6d4-404a-84cd-8f00952b43b9"
      },
      "execution_count": 72,
      "outputs": [
        {
          "output_type": "execute_result",
          "data": {
            "text/plain": [
              "0.8837803320561941"
            ]
          },
          "metadata": {},
          "execution_count": 72
        }
      ]
    },
    {
      "cell_type": "code",
      "source": [
        "columns = l1_predictions.select('quality', 'prediction').rdd\n",
        "metrics = MulticlassMetrics(columns)\n",
        "confusion_matrix_l1 = metrics.confusionMatrix().toArray()\n",
        "\n",
        "total = confusion_matrix_l1.sum()\n",
        "correct = confusion_matrix_l1.trace()\n",
        "l1_test_accuracy = correct/total\n",
        "\n",
        "l1_test_accuracy, confusion_matrix_l1"
      ],
      "metadata": {
        "id": "ZJ2cQM7xLzry",
        "colab": {
          "base_uri": "https://localhost:8080/"
        },
        "outputId": "1b4e3235-607c-4c1d-f292-affd5a313a07"
      },
      "execution_count": 73,
      "outputs": [
        {
          "output_type": "execute_result",
          "data": {
            "text/plain": [
              "(0.8938053097345132,\n",
              " array([[ 71.,   3.,   0.,   0.],\n",
              "        [ 13., 220.,  18.,   0.],\n",
              "        [  0.,   0.,   4.,   1.],\n",
              "        [  0.,   0.,   1.,   8.]]))"
            ]
          },
          "metadata": {},
          "execution_count": 73
        }
      ]
    },
    {
      "cell_type": "markdown",
      "source": [
        "#### (b) Ridge (L2)\n"
      ],
      "metadata": {
        "id": "-O7Oq8KPdD9h"
      }
    },
    {
      "cell_type": "code",
      "source": [
        "l2_model = LogisticRegression(maxIter = 5, family = 'multinomial', labelCol = 'quality', elasticNetParam = 0, regParam = 0.05)\n",
        "\n",
        "l2_model_fit = l2_model.fit(train_sdf)\n",
        "l2_predictions = l2_model_fit.transform(test_sdf)\n",
        "\n",
        "l2_train_accuracy = l2_model_fit.summary.accuracy\n",
        "l2_train_accuracy"
      ],
      "metadata": {
        "id": "p1YTDFXOMCYf",
        "colab": {
          "base_uri": "https://localhost:8080/"
        },
        "outputId": "764c7815-5828-48f8-9afe-9d51f2eb66af"
      },
      "execution_count": 74,
      "outputs": [
        {
          "output_type": "execute_result",
          "data": {
            "text/plain": [
              "0.9310344827586207"
            ]
          },
          "metadata": {},
          "execution_count": 74
        }
      ]
    },
    {
      "cell_type": "code",
      "source": [
        "columns = l2_predictions.select('quality', 'prediction').rdd\n",
        "metrics = MulticlassMetrics(columns)\n",
        "confusion_matrix_l2 = metrics.confusionMatrix().toArray()\n",
        "\n",
        "total = confusion_matrix_l2.sum()\n",
        "correct = confusion_matrix_l2.trace()\n",
        "l2_test_accuracy = correct/total\n",
        "l2_test_accuracy, confusion_matrix_l2"
      ],
      "metadata": {
        "id": "p3TwzqJiMF86",
        "colab": {
          "base_uri": "https://localhost:8080/"
        },
        "outputId": "c870e269-6daa-4cf8-a82f-9b31528d769e"
      },
      "execution_count": 75,
      "outputs": [
        {
          "output_type": "execute_result",
          "data": {
            "text/plain": [
              "(0.9144542772861357,\n",
              " array([[ 75.,   5.,   0.,   0.],\n",
              "        [  9., 213.,   8.,   0.],\n",
              "        [  0.,   3.,  14.,   1.],\n",
              "        [  0.,   2.,   1.,   8.]]))"
            ]
          },
          "metadata": {},
          "execution_count": 75
        }
      ]
    },
    {
      "cell_type": "markdown",
      "source": [
        "#### (c) Elastic Net\n",
        "\n"
      ],
      "metadata": {
        "id": "fUibpxvqeCsz"
      }
    },
    {
      "cell_type": "code",
      "source": [
        "en_model = LogisticRegression(maxIter = 5, family = 'multinomial', labelCol = 'quality', elasticNetParam = 0.5, regParam = 0.05)\n",
        "\n",
        "en_model_fit = en_model.fit(train_sdf)\n",
        "en_predictions = en_model_fit.transform(test_sdf)\n",
        "\n",
        "en_train_accuracy = en_model_fit.summary.accuracy\n",
        "\n",
        "en_train_accuracy"
      ],
      "metadata": {
        "id": "O8WJJUSTMHch",
        "colab": {
          "base_uri": "https://localhost:8080/"
        },
        "outputId": "a753b7f8-4234-477c-fac0-c29ad43cee07"
      },
      "execution_count": 76,
      "outputs": [
        {
          "output_type": "execute_result",
          "data": {
            "text/plain": [
              "0.888250319284802"
            ]
          },
          "metadata": {},
          "execution_count": 76
        }
      ]
    },
    {
      "cell_type": "code",
      "source": [
        "columns = en_predictions.select('quality', 'prediction').rdd\n",
        "metrics = MulticlassMetrics(columns)\n",
        "confusion_matrix_en = metrics.confusionMatrix().toArray()\n",
        "\n",
        "correct = confusion_matrix_en.trace()\n",
        "total = confusion_matrix_en.sum()\n",
        "en_test_accuracy = correct/total\n",
        "en_test_accuracy, confusion_matrix_en"
      ],
      "metadata": {
        "id": "cL6ubSekMK8i",
        "colab": {
          "base_uri": "https://localhost:8080/"
        },
        "outputId": "bb4b1eed-c75c-4ab6-aea2-d296ae0610bb"
      },
      "execution_count": 77,
      "outputs": [
        {
          "output_type": "execute_result",
          "data": {
            "text/plain": [
              "(0.8938053097345132,\n",
              " array([[ 71.,   3.,   0.,   0.],\n",
              "        [ 13., 220.,  18.,   0.],\n",
              "        [  0.,   0.,   4.,   1.],\n",
              "        [  0.,   0.,   1.,   8.]]))"
            ]
          },
          "metadata": {},
          "execution_count": 77
        }
      ]
    },
    {
      "cell_type": "markdown",
      "source": [
        "### **2.3.3** Random Forest Classification\n",
        "\n"
      ],
      "metadata": {
        "id": "H8k-KqujfWbA"
      }
    },
    {
      "cell_type": "code",
      "source": [
        "from pyspark.ml.classification import RandomForestClassifier\n",
        "\n",
        "random_seed = 42\n",
        "\n",
        "rf = RandomForestClassifier(maxDepth = 10, seed = random_seed, labelCol = 'quality')\n",
        "rf_model = rf.fit(train_sdf)"
      ],
      "metadata": {
        "id": "J-rKH7Qh0m4H"
      },
      "execution_count": 78,
      "outputs": []
    },
    {
      "cell_type": "code",
      "source": [
        "train_pred = rf_model.transform(train_sdf)\n",
        "test_pred = rf_model.transform(test_sdf)"
      ],
      "metadata": {
        "id": "dzPe3ld01hhA"
      },
      "execution_count": 79,
      "outputs": []
    },
    {
      "cell_type": "code",
      "source": [
        "columns = train_pred.select('quality', 'prediction').rdd\n",
        "metrics = MulticlassMetrics(columns)\n",
        "rf_train_cm = metrics.confusionMatrix().toArray()\n",
        "correct = rf_train_cm.trace()\n",
        "total = rf_train_cm.sum()\n",
        "rf_train_accuracy = correct/total\n",
        "\n",
        "columns = test_pred.select('quality', 'prediction').rdd\n",
        "metrics = MulticlassMetrics(columns)\n",
        "rf_test_cm = metrics.confusionMatrix().toArray()\n",
        "correct = rf_test_cm.trace()\n",
        "total = rf_test_cm.sum()\n",
        "rf_test_accuracy = correct/total\n",
        "\n",
        "rf_train_accuracy, rf_test_accuracy"
      ],
      "metadata": {
        "id": "es9Wql3B14TV",
        "colab": {
          "base_uri": "https://localhost:8080/"
        },
        "outputId": "952a0b44-dc15-4682-b3a1-3557a1582512"
      },
      "execution_count": 80,
      "outputs": [
        {
          "output_type": "execute_result",
          "data": {
            "text/plain": [
              "(0.9693486590038314, 0.943952802359882)"
            ]
          },
          "metadata": {},
          "execution_count": 80
        }
      ]
    },
    {
      "cell_type": "markdown",
      "source": [
        "### **2.3.4** Dimensionality Reduction Using PCA\n",
        "\n"
      ],
      "metadata": {
        "id": "n972zXod4DXF"
      }
    },
    {
      "cell_type": "markdown",
      "source": [],
      "metadata": {
        "id": "LiL8evmIBhDL"
      }
    },
    {
      "cell_type": "code",
      "source": [
        "from pyspark.ml.feature import PCA, StandardScaler\n",
        "\n",
        "scaler = StandardScaler(inputCol = \"features\", outputCol = \"scaledFeatures\")\n",
        "model = scaler.fit(train_sdf)\n",
        "train_scaled = model.transform(train_sdf)\n",
        "test_scaled = model.transform(test_sdf)\n",
        "\n",
        "pca = PCA(k = 16, inputCol = \"scaledFeatures\")\n",
        "pca_model = pca.fit(train_scaled)\n",
        "train_pca = pca_model.transform(train_scaled)\n",
        "test_pca = pca_model.transform(test_scaled)"
      ],
      "metadata": {
        "id": "J4t4b6RECbRl"
      },
      "execution_count": 81,
      "outputs": []
    },
    {
      "cell_type": "code",
      "source": [
        "lr_model = LogisticRegression(maxIter = 5, regParam = 0.05, family = 'multinomial', labelCol = 'quality')\n",
        "\n",
        "lr_model = lr_model.fit(train_pca)\n",
        "test_pred = lr_model.transform(test_pca)"
      ],
      "metadata": {
        "id": "QdX0LisYDcb1"
      },
      "execution_count": 82,
      "outputs": []
    },
    {
      "cell_type": "code",
      "source": [
        "train_accuracy_pca = lr_model.summary.accuracy\n",
        "train_accuracy_pca"
      ],
      "metadata": {
        "id": "ZqgCxBWfM3HS",
        "colab": {
          "base_uri": "https://localhost:8080/"
        },
        "outputId": "4ce35898-95e6-4bed-970b-ae6552e9b251"
      },
      "execution_count": 83,
      "outputs": [
        {
          "output_type": "execute_result",
          "data": {
            "text/plain": [
              "0.9310344827586207"
            ]
          },
          "metadata": {},
          "execution_count": 83
        }
      ]
    },
    {
      "cell_type": "code",
      "source": [
        "columns = test_pred.select('quality', 'prediction').rdd\n",
        "metrics = MulticlassMetrics(columns)\n",
        "confusion_matrix_pca = metrics.confusionMatrix().toArray()\n",
        "\n",
        "correct = confusion_matrix_pca.trace()\n",
        "total = confusion_matrix_pca.sum()\n",
        "test_accuracy_pca = correct/total\n",
        "test_accuracy_pca, confusion_matrix_pca"
      ],
      "metadata": {
        "id": "6AbNje50EU2a",
        "colab": {
          "base_uri": "https://localhost:8080/"
        },
        "outputId": "c6593768-ebbd-4d93-a78c-edeb52e3d2b2"
      },
      "execution_count": 85,
      "outputs": [
        {
          "output_type": "stream",
          "name": "stderr",
          "text": [
            "/usr/local/lib/python3.10/dist-packages/pyspark/sql/context.py:158: FutureWarning: Deprecated in 3.0.0. Use SparkSession.builder.getOrCreate() instead.\n",
            "  warnings.warn(\n"
          ]
        },
        {
          "output_type": "execute_result",
          "data": {
            "text/plain": [
              "(0.9144542772861357,\n",
              " array([[ 75.,   5.,   0.,   0.],\n",
              "        [  9., 213.,   8.,   0.],\n",
              "        [  0.,   3.,  14.,   1.],\n",
              "        [  0.,   2.,   1.,   8.]]))"
            ]
          },
          "metadata": {},
          "execution_count": 85
        }
      ]
    }
  ]
}